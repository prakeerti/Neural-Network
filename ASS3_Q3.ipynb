{
 "cells": [
  {
   "cell_type": "code",
   "execution_count": 1,
   "metadata": {},
   "outputs": [],
   "source": [
    "import pandas as pd\n",
    "import numpy as np\n",
    "from sklearn.neural_network import MLPClassifier\n",
    "import sklearn.metrics as metrics\n",
    "import matplotlib.pyplot as plt\n",
    "from tqdm import tqdm\n",
    "import math\n",
    "import time  "
   ]
  },
  {
   "cell_type": "code",
   "execution_count": 90,
   "metadata": {},
   "outputs": [],
   "source": [
    "training_path = r\"C:\\Users\\prake\\ass2\\fmnist_train.csv\"\n",
    "test_path = r\"C:\\Users\\prake\\ass2\\fmnist_test.csv\""
   ]
  },
  {
   "cell_type": "code",
   "execution_count": 91,
   "metadata": {},
   "outputs": [],
   "source": [
    "#function to read the data and convert into numpy arrays\n",
    "def read_data(file_path):\n",
    "    train_data = np.array(pd.read_csv(file_path, header=None))\n",
    "    x_train = train_data[:,0:784]\n",
    "    y_train = train_data[:,784:785]\n",
    "    y_train = y_train.reshape(len(y_train),)\n",
    "    \n",
    "    return x_train,y_train"
   ]
  },
  {
   "cell_type": "markdown",
   "metadata": {},
   "source": [
    "# Neural network construction using forward, bakcward propogation "
   ]
  },
  {
   "cell_type": "code",
   "execution_count": 92,
   "metadata": {},
   "outputs": [],
   "source": [
    "#function to convert labels into one hot encoding form\n",
    "def one_hot_encoding(y_label):\n",
    "    labels = np.zeros((len(y_label),len(np.unique(y_label))))\n",
    "    rows = np.arange(y_label.size)\n",
    "    labels[rows,y_label] = 1\n",
    "    return labels"
   ]
  },
  {
   "cell_type": "code",
   "execution_count": 93,
   "metadata": {
    "scrolled": true
   },
   "outputs": [
    {
     "name": "stdout",
     "output_type": "stream",
     "text": [
      "Shape of X : (60000, 784)\n",
      "Shape of Y : (60000, 10)\n"
     ]
    }
   ],
   "source": [
    "#get the data \n",
    "x_train,y_train = read_data(training_path)\n",
    "X_train = x_train\n",
    "X_train = (X_train*1.0)/255\n",
    "Y_train = one_hot_encoding(y_train)\n",
    "# Y = y_train\n",
    "print('Shape of X :',X_train.shape)\n",
    "print('Shape of Y :',Y_train.shape)\n"
   ]
  },
  {
   "cell_type": "code",
   "execution_count": 94,
   "metadata": {},
   "outputs": [
    {
     "name": "stdout",
     "output_type": "stream",
     "text": [
      "Shape of X : (10000, 784)\n",
      "Shape of Y : (10000, 10)\n"
     ]
    }
   ],
   "source": [
    "#data pre-processing\n",
    "test_x, test_y = read_data(test_path)\n",
    "X_test = (test_x*1.0)/255\n",
    "Y_test = one_hot_encoding(test_y)\n",
    "print('Shape of X :',X_test.shape)\n",
    "print('Shape of Y :',Y_test.shape)"
   ]
  },
  {
   "cell_type": "code",
   "execution_count": 95,
   "metadata": {},
   "outputs": [],
   "source": [
    "def mse(labels, predictions): #mean square error  1/n(sum of (y-y')^2)\n",
    "    diff = np.subtract(labels, predictions)\n",
    "    sq_diff = np.square(diff)\n",
    "    err_vector = np.sum(sq_diff,axis=1)/2\n",
    "    sum_vector = np.sum(err_vector)\n",
    "    error = (sum_vector*1.0)/sum_vector.size\n",
    "    return error"
   ]
  },
  {
   "cell_type": "code",
   "execution_count": 96,
   "metadata": {},
   "outputs": [],
   "source": [
    "def activation_fn(z,af,deriv=False):\n",
    "    if af == 'sigmoid':\n",
    "        if deriv == True:\n",
    "            return np.multiply(z,1-z)\n",
    "        else:\n",
    "            return 1/(1 + np.exp(-z))\n",
    "    if af == 'relu':\n",
    "        if deriv == True:\n",
    "            return (z>0)*1\n",
    "        else:\n",
    "            input_rows = z\n",
    "            for r in input_rows:\n",
    "                r[r < 0] = 0\n",
    "            return input_rows   "
   ]
  },
  {
   "cell_type": "code",
   "execution_count": 97,
   "metadata": {},
   "outputs": [],
   "source": [
    "def define_layers(nodes_hidden, total_features, total_classes,batch_size,initial_weight):\n",
    "    \n",
    "    layers = []\n",
    "    first_layer = 0\n",
    "    no_layers = len(nodes_hidden)    \n",
    "    \n",
    "    #first hidden layer with neurons = total_features + 1\n",
    "    for i in range(no_layers+1):\n",
    "        layer = {}\n",
    "        if first_layer == 0:\n",
    "            no_weights = total_features+1\n",
    "            first_layer +=1\n",
    "        else :\n",
    "            no_weights = nodes_hidden[i-1]+1\n",
    "        \n",
    "        if i == no_layers :\n",
    "            no_neurons = total_classes\n",
    "        else :\n",
    "            no_neurons = nodes_hidden[i]\n",
    "        \n",
    "        layer[\"node_count\"] = no_neurons\n",
    "        layer[\"weights\"] = np.random.uniform(-initial_weight, initial_weight, size=(no_neurons, no_weights))\n",
    "        layer[\"net_input\"] = np.zeros((batch_size,no_weights))\n",
    "        print('layer no :',i,'No of neurons :',no_neurons,'No of weights :',no_weights,layer[\"weights\"].shape)\n",
    "        layers.append(layer)\n",
    "    \n",
    "    return layers"
   ]
  },
  {
   "cell_type": "code",
   "execution_count": 98,
   "metadata": {},
   "outputs": [],
   "source": [
    "def forward_prop(input_data, af, layers, batch_size):\n",
    "    \n",
    "    total_layers = len(layers) #no. of layers in the network\n",
    "    \n",
    "    #set x0 =1 for bias \n",
    "    bias_ones = np.ones(input_data.shape[0])\n",
    "    #concate 1's to input data \n",
    "    input_data = np.c_[bias_ones,input_data]\n",
    "    layers[0][\"net_input\"] = input_data #we copy whole batch to net_input\n",
    "    tot_lay = total_layers-1\n",
    "    \n",
    "    #iterate through all the layers \n",
    "    for i in range(tot_lay): \n",
    "        ith_layer_weight = layers[i][\"weights\"]\n",
    "        ith_layer_net_input = layers[i][\"net_input\"].T\n",
    "        \n",
    "        net_input = np.dot(ith_layer_weight,ith_layer_net_input)\n",
    "        # W*X.T + b\n",
    "        \n",
    "        net_input = activation_fn(net_input,af)\n",
    "        \n",
    "        #set x0=1 for next_net_input\n",
    "        layers[i+1][\"net_input\"] = net_input.T\n",
    "        #it will be input for next layer\n",
    "        ones_shape = layers[i+1][\"net_input\"]\n",
    "        #one's are added to next layer input\n",
    "        i_plus_layer_ones = np.ones(ones_shape.shape[0])\n",
    "        layers[i+1][\"net_input\"] = np.c_[i_plus_layer_ones,ones_shape]"
   ]
  },
  {
   "cell_type": "code",
   "execution_count": 99,
   "metadata": {},
   "outputs": [],
   "source": [
    "def back_prop(labels, predictions, last_layer, layers, lr, af, net):\n",
    "#δL =1/M (Yb − Ol)Ol(1 − Ol)\n",
    "#δl = δl+1θlOl(1 − Ol)\n",
    "    batch_size = predictions.shape[0]\n",
    "    \n",
    "    derv = predictions*(1-predictions) #multiply element by element\n",
    "    difference = labels - predictions\n",
    "    delta_L = np.multiply(difference, derv)\n",
    "    delta_trans = delta_L.T\n",
    "    last_lay_inp = layers[last_layer][\"net_input\"]\n",
    "    delta_w = np.dot(delta_trans,last_lay_inp )\n",
    "    #net_input is the output of the previous layer\n",
    "    last_lay_weight = layers[last_layer][\"weights\"] \n",
    "    learn_rate_delta_w = lr * delta_w\n",
    "    divr = learn_rate_delta_w/batch_size\n",
    "    \n",
    "    #back propagation in hidden layers\n",
    "    n = last_layer-1\n",
    "    \n",
    "    updated_weights = last_lay_weight + divr\n",
    "    # the update rule θt+1 = θt + αXlδl+1\n",
    "    for i in range(n , -1, -1):\n",
    "        \n",
    "        y = layers[i+1][\"net_input\"]\n",
    "        \n",
    "        derv = activation_fn(y,af,deriv=True)\n",
    "        \n",
    "        layers[i+1][\"weights\"] = updated_weights\n",
    "        \n",
    "        i_plus_lay_weights = layers[i+1][\"weights\"][:,1:]\n",
    "        \n",
    "        temp = np.dot(delta_L , i_plus_lay_weights)\n",
    "          \n",
    "        delta_L = np.multiply(temp, derv[:,1:])\n",
    "        i_lay_weights = layers[i][\"net_input\"]\n",
    "        delta_w = np.dot(delta_L.T , i_lay_weights)\n",
    "        \n",
    "        i_lay_weight = layers[i][\"weights\"]\n",
    "        lr_delta = lr * delta_w\n",
    "            \n",
    "        updated_weights = i_lay_weight + (lr_delta/batch_size)\n",
    "    layers[0][\"weights\"] = updated_weights"
   ]
  },
  {
   "cell_type": "code",
   "execution_count": 100,
   "metadata": {},
   "outputs": [],
   "source": [
    "def train_per_batch(layers, features, labels, af, lr, nt):\n",
    "    #features is a subset of x\n",
    "    #labels is subset of y\n",
    "    batch_size = 100\n",
    "    forward_prop(features, af, layers, batch_size) #forward propagation\n",
    "    \n",
    "    #get the prediction of output layer\n",
    "    last_layer = len(layers) - 1\n",
    "    last_layer_input = layers[last_layer][\"net_input\"]\n",
    "    last_layer_weight = layers[last_layer][\"weights\"].T\n",
    "    z = np.dot(last_layer_input,last_layer_weight)\n",
    "    \n",
    "# predictions = sigmoid(z)\n",
    "    predictions = activation_fn(z,'sigmoid')\n",
    "    #output of lastlayer\n",
    "    #compute mean squared error\n",
    "    error = mse(labels, predictions)\n",
    "    #back propagate the error to update weights\n",
    "    back_prop(labels, predictions, last_layer, layers, lr, af,batch_size )\n",
    "    \n",
    "    return error"
   ]
  },
  {
   "cell_type": "code",
   "execution_count": 101,
   "metadata": {},
   "outputs": [],
   "source": [
    "def accuracy_(layers, features, labels, af):\n",
    "    \n",
    "    batch_size = 100\n",
    "    forward_prop(features, af, layers,batch_size)\n",
    "    \n",
    "    #get the prediction\n",
    "    last_layer = len(layers) - 1\n",
    "    \n",
    "    last_layer_inp = layers[last_layer][\"net_input\"]\n",
    "    last_layer_weight = layers[last_layer][\"weights\"].T\n",
    "    mult = np.dot(last_layer_inp, last_layer_weight)\n",
    "    predictions = activation_fn(mult,'sigmoid')\n",
    "    \n",
    "    total_count = len(predictions)\n",
    "    \n",
    "    for i in range(0,total_count):  \n",
    "        \n",
    "        maximum_val = np.max(predictions[i])\n",
    "        true_val = predictions[i] >= maximum_val\n",
    "        predictions[i] = true_val.astype(int)\n",
    "\n",
    "    print('No of total values Match :',total_count)\n",
    "    crct_result = np.all(labels == predictions, axis=1)\n",
    "    print('number of correct match :',np.sum(crct_result))\n",
    "    correct_count = np.sum(crct_result)\n",
    "    \n",
    "    accuracy = (correct_count*100.0)/total_count\n",
    "    print(\"Accuracy: \", accuracy)\n",
    "    return round(accuracy,2)"
   ]
  },
  {
   "cell_type": "code",
   "execution_count": 102,
   "metadata": {},
   "outputs": [],
   "source": [
    "def plot_test_acc(title,X_label,Y_label,X_Axis,test_accuracies,training_accuracies):\n",
    "  if len(test_accuracies) != 1:\n",
    "    plt.plot(X_Axis, test_accuracies, color='g',label=\"Test Accuracy\")\n",
    "    plt.scatter(X_Axis,test_accuracies)\n",
    "  plt.plot(X_Axis, training_accuracies, color='orange',label=\"Training Accuracy\")\n",
    "  plt.scatter(X_Axis,training_accuracies)\n",
    "  plt.xlabel(X_label)\n",
    "  plt.ylabel(Y_label)\n",
    "  plt.title(title_text)\n",
    "  plt.xticks(X_Axis)\n",
    "  plt.legend(loc='lower right')\n",
    "  plt.show()"
   ]
  },
  {
   "cell_type": "code",
   "execution_count": 106,
   "metadata": {},
   "outputs": [],
   "source": [
    "def basic_network(learning_type='fixed'):\n",
    "\n",
    "  hidden_layers = [5,10,15,20,25]\n",
    "  training_accuracies = []\n",
    "  test_accuracies = []\n",
    "  time_taken = []\n",
    "  for neurons in hidden_layers:\n",
    "      t0 = time.time()\n",
    "      layers = train([neurons], 100, X_train, Y_train, 1500, 'sigmoid',0.1,learning_type)\n",
    "      time_taken.append(round(time.time()-t0))\n",
    "      training_accuracies.append(accuracy_(layers, X_train, Y_train, 'sigmoid'))\n",
    "      test_accuracies.append(accuracy_(layers, X_test, Y_test, 'sigmoid'))\n",
    "  \n",
    "  print('Training Accuracies :', training_accuracies)\n",
    "  print('Testing Accuracies :', test_accuracies)\n",
    "  print('Time Taken :', time_taken)\n",
    "  #plot accuracies\n",
    "  plot_test_acc('No of Neurons in Hidden Layer V/S Accuracies','No. of Neurons in Hidden layer -->','Accuracies',hidden_layers,test_accuracies,training_accuracies)"
   ]
  },
  {
   "cell_type": "markdown",
   "metadata": {},
   "source": [
    "# B. Fixed Learning type"
   ]
  },
  {
   "cell_type": "code",
   "execution_count": 37,
   "metadata": {},
   "outputs": [
    {
     "name": "stderr",
     "output_type": "stream",
     "text": [
      "  0%|                                                                                         | 0/1500 [00:00<?, ?it/s]"
     ]
    },
    {
     "name": "stdout",
     "output_type": "stream",
     "text": [
      "classes : 10\n",
      "layer no : 0 No of neurons : 5 No of weights : 785 (5, 785)\n",
      "layer no : 1 No of neurons : 10 No of weights : 6 (10, 6)\n"
     ]
    },
    {
     "name": "stderr",
     "output_type": "stream",
     "text": [
      "100%|██████████████████████████████████████████████████████████████████████████████| 1500/1500 [26:00<00:00,  1.04s/it]\n"
     ]
    },
    {
     "name": "stdout",
     "output_type": "stream",
     "text": [
      "Error : 8.395473445447795\n",
      "No of total values Match : 60000\n",
      "number of correct match : 52286\n",
      "Accuracy:  87.14333333333333\n"
     ]
    },
    {
     "name": "stderr",
     "output_type": "stream",
     "text": [
      "  0%|                                                                                         | 0/1500 [00:00<?, ?it/s]"
     ]
    },
    {
     "name": "stdout",
     "output_type": "stream",
     "text": [
      "No of total values Match : 10000\n",
      "number of correct match : 8362\n",
      "Accuracy:  83.62\n",
      "classes : 10\n",
      "layer no : 0 No of neurons : 10 No of weights : 785 (10, 785)\n",
      "layer no : 1 No of neurons : 10 No of weights : 11 (10, 11)\n"
     ]
    },
    {
     "name": "stderr",
     "output_type": "stream",
     "text": [
      "100%|██████████████████████████████████████████████████████████████████████████████| 1500/1500 [32:36<00:00,  1.30s/it]\n"
     ]
    },
    {
     "name": "stdout",
     "output_type": "stream",
     "text": [
      "Error : 6.552162282013649\n",
      "No of total values Match : 60000\n",
      "number of correct match : 54042\n",
      "Accuracy:  90.07\n"
     ]
    },
    {
     "name": "stderr",
     "output_type": "stream",
     "text": [
      "  0%|                                                                                         | 0/1500 [00:00<?, ?it/s]"
     ]
    },
    {
     "name": "stdout",
     "output_type": "stream",
     "text": [
      "No of total values Match : 10000\n",
      "number of correct match : 8547\n",
      "Accuracy:  85.47\n",
      "classes : 10\n",
      "layer no : 0 No of neurons : 15 No of weights : 785 (15, 785)\n",
      "layer no : 1 No of neurons : 10 No of weights : 16 (10, 16)\n"
     ]
    },
    {
     "name": "stderr",
     "output_type": "stream",
     "text": [
      "100%|██████████████████████████████████████████████████████████████████████████████| 1500/1500 [24:17<00:00,  1.03it/s]\n"
     ]
    },
    {
     "name": "stdout",
     "output_type": "stream",
     "text": [
      "Error : 5.6830669621358\n",
      "No of total values Match : 60000\n",
      "number of correct match : 54886\n",
      "Accuracy:  91.47666666666667\n"
     ]
    },
    {
     "name": "stderr",
     "output_type": "stream",
     "text": [
      "  0%|                                                                                         | 0/1500 [00:00<?, ?it/s]"
     ]
    },
    {
     "name": "stdout",
     "output_type": "stream",
     "text": [
      "No of total values Match : 10000\n",
      "number of correct match : 8623\n",
      "Accuracy:  86.23\n",
      "classes : 10\n",
      "layer no : 0 No of neurons : 20 No of weights : 785 (20, 785)\n",
      "layer no : 1 No of neurons : 10 No of weights : 21 (10, 21)\n"
     ]
    },
    {
     "name": "stderr",
     "output_type": "stream",
     "text": [
      "100%|██████████████████████████████████████████████████████████████████████████████| 1500/1500 [21:26<00:00,  1.17it/s]\n"
     ]
    },
    {
     "name": "stdout",
     "output_type": "stream",
     "text": [
      "Error : 5.7776248592464\n",
      "No of total values Match : 60000\n",
      "number of correct match : 55404\n",
      "Accuracy:  92.34\n"
     ]
    },
    {
     "name": "stderr",
     "output_type": "stream",
     "text": [
      "  0%|                                                                                         | 0/1500 [00:00<?, ?it/s]"
     ]
    },
    {
     "name": "stdout",
     "output_type": "stream",
     "text": [
      "No of total values Match : 10000\n",
      "number of correct match : 8688\n",
      "Accuracy:  86.88\n",
      "classes : 10\n",
      "layer no : 0 No of neurons : 25 No of weights : 785 (25, 785)\n",
      "layer no : 1 No of neurons : 10 No of weights : 26 (10, 26)\n"
     ]
    },
    {
     "name": "stderr",
     "output_type": "stream",
     "text": [
      "100%|██████████████████████████████████████████████████████████████████████████████| 1500/1500 [22:00<00:00,  1.14it/s]\n"
     ]
    },
    {
     "name": "stdout",
     "output_type": "stream",
     "text": [
      "Error : 5.806288536781198\n",
      "No of total values Match : 60000\n",
      "number of correct match : 55909\n",
      "Accuracy:  93.18166666666667\n",
      "No of total values Match : 10000\n",
      "number of correct match : 8727\n",
      "Accuracy:  87.27\n",
      "Training Accuracies : [87.14, 90.07, 91.48, 92.34, 93.18]\n",
      "Testing Accuracies : [83.62, 85.47, 86.23, 86.88, 87.27]\n",
      "Time Taken : [1560, 1956, 1457, 1287, 1320]\n"
     ]
    },
    {
     "ename": "NameError",
     "evalue": "name 'title_text' is not defined",
     "output_type": "error",
     "traceback": [
      "\u001b[1;31m---------------------------------------------------------------------------\u001b[0m",
      "\u001b[1;31mNameError\u001b[0m                                 Traceback (most recent call last)",
      "\u001b[1;32m<ipython-input-37-6ad1783dd5fc>\u001b[0m in \u001b[0;36m<module>\u001b[1;34m\u001b[0m\n\u001b[1;32m----> 1\u001b[1;33m \u001b[0mbasic_network\u001b[0m\u001b[1;33m(\u001b[0m\u001b[1;34m'fixed'\u001b[0m\u001b[1;33m)\u001b[0m\u001b[1;33m\u001b[0m\u001b[1;33m\u001b[0m\u001b[0m\n\u001b[0m",
      "\u001b[1;32m<ipython-input-35-297b61ab63d5>\u001b[0m in \u001b[0;36mbasic_network\u001b[1;34m(learning_type)\u001b[0m\n\u001b[0;32m     16\u001b[0m   \u001b[0mprint\u001b[0m\u001b[1;33m(\u001b[0m\u001b[1;34m'Time Taken :'\u001b[0m\u001b[1;33m,\u001b[0m \u001b[0mtime_taken\u001b[0m\u001b[1;33m)\u001b[0m\u001b[1;33m\u001b[0m\u001b[1;33m\u001b[0m\u001b[0m\n\u001b[0;32m     17\u001b[0m   \u001b[1;31m#plot accuracies\u001b[0m\u001b[1;33m\u001b[0m\u001b[1;33m\u001b[0m\u001b[1;33m\u001b[0m\u001b[0m\n\u001b[1;32m---> 18\u001b[1;33m   \u001b[0mplot_test_acc\u001b[0m\u001b[1;33m(\u001b[0m\u001b[1;34m'No of Neurons in Hidden Layer V/S Accuracies'\u001b[0m\u001b[1;33m,\u001b[0m\u001b[1;34m'No. of Neurons in Hidden layer -->'\u001b[0m\u001b[1;33m,\u001b[0m\u001b[1;34m'Accuracies'\u001b[0m\u001b[1;33m,\u001b[0m\u001b[0mhidden_layers\u001b[0m\u001b[1;33m,\u001b[0m\u001b[0mtest_accuracies\u001b[0m\u001b[1;33m,\u001b[0m\u001b[0mtraining_accuracies\u001b[0m\u001b[1;33m)\u001b[0m\u001b[1;33m\u001b[0m\u001b[1;33m\u001b[0m\u001b[0m\n\u001b[0m",
      "\u001b[1;32m<ipython-input-27-9c4bdf26be9c>\u001b[0m in \u001b[0;36mplot_test_acc\u001b[1;34m(title, X_label, Y_label, X_Axis, test_accuracies, training_accuracies)\u001b[0m\n\u001b[0;32m      7\u001b[0m   \u001b[0mplt\u001b[0m\u001b[1;33m.\u001b[0m\u001b[0mxlabel\u001b[0m\u001b[1;33m(\u001b[0m\u001b[0mX_label\u001b[0m\u001b[1;33m)\u001b[0m\u001b[1;33m\u001b[0m\u001b[1;33m\u001b[0m\u001b[0m\n\u001b[0;32m      8\u001b[0m   \u001b[0mplt\u001b[0m\u001b[1;33m.\u001b[0m\u001b[0mylabel\u001b[0m\u001b[1;33m(\u001b[0m\u001b[0mY_label\u001b[0m\u001b[1;33m)\u001b[0m\u001b[1;33m\u001b[0m\u001b[1;33m\u001b[0m\u001b[0m\n\u001b[1;32m----> 9\u001b[1;33m   \u001b[0mplt\u001b[0m\u001b[1;33m.\u001b[0m\u001b[0mtitle\u001b[0m\u001b[1;33m(\u001b[0m\u001b[0mtitle_text\u001b[0m\u001b[1;33m)\u001b[0m\u001b[1;33m\u001b[0m\u001b[1;33m\u001b[0m\u001b[0m\n\u001b[0m\u001b[0;32m     10\u001b[0m   \u001b[0mplt\u001b[0m\u001b[1;33m.\u001b[0m\u001b[0mxticks\u001b[0m\u001b[1;33m(\u001b[0m\u001b[0mX_Axis\u001b[0m\u001b[1;33m)\u001b[0m\u001b[1;33m\u001b[0m\u001b[1;33m\u001b[0m\u001b[0m\n\u001b[0;32m     11\u001b[0m   \u001b[0mplt\u001b[0m\u001b[1;33m.\u001b[0m\u001b[0mlegend\u001b[0m\u001b[1;33m(\u001b[0m\u001b[0mloc\u001b[0m\u001b[1;33m=\u001b[0m\u001b[1;34m'lower right'\u001b[0m\u001b[1;33m)\u001b[0m\u001b[1;33m\u001b[0m\u001b[1;33m\u001b[0m\u001b[0m\n",
      "\u001b[1;31mNameError\u001b[0m: name 'title_text' is not defined"
     ]
    },
    {
     "data": {
      "image/png": "[encoded data removed]",
      "text/plain": [
       "<Figure size 432x288 with 1 Axes>"
      ]
     },
     "metadata": {
      "needs_background": "light"
     },
     "output_type": "display_data"
    }
   ],
   "source": [
    "basic_network('fixed')"
   ]
  },
  {
   "cell_type": "markdown",
   "metadata": {},
   "source": [
    "# C. Adaptive learning type"
   ]
  },
  {
   "cell_type": "code",
   "execution_count": 72,
   "metadata": {},
   "outputs": [
    {
     "name": "stderr",
     "output_type": "stream",
     "text": [
      "  0%|                                                                                         | 0/1500 [00:00<?, ?it/s]"
     ]
    },
    {
     "name": "stdout",
     "output_type": "stream",
     "text": [
      "classes : 10\n",
      "layer no : 0 No of neurons : 5 No of weights : 785 (5, 785)\n",
      "layer no : 1 No of neurons : 10 No of weights : 6 (10, 6)\n"
     ]
    },
    {
     "name": "stderr",
     "output_type": "stream",
     "text": [
      "100%|██████████████████████████████████████████████████████████████████████████████| 1500/1500 [16:31<00:00,  1.51it/s]\n"
     ]
    },
    {
     "name": "stdout",
     "output_type": "stream",
     "text": [
      "Error : 11.329722458243644\n",
      "No of total values Match : 60000\n",
      "number of correct match : 50653\n",
      "Accuracy:  84.42166666666667\n"
     ]
    },
    {
     "name": "stderr",
     "output_type": "stream",
     "text": [
      "  0%|                                                                                         | 0/1500 [00:00<?, ?it/s]"
     ]
    },
    {
     "name": "stdout",
     "output_type": "stream",
     "text": [
      "No of total values Match : 10000\n",
      "number of correct match : 8219\n",
      "Accuracy:  82.19\n",
      "classes : 10\n",
      "layer no : 0 No of neurons : 10 No of weights : 785 (10, 785)\n",
      "layer no : 1 No of neurons : 10 No of weights : 11 (10, 11)\n"
     ]
    },
    {
     "name": "stderr",
     "output_type": "stream",
     "text": [
      "100%|██████████████████████████████████████████████████████████████████████████████| 1500/1500 [18:45<00:00,  1.33it/s]\n"
     ]
    },
    {
     "name": "stdout",
     "output_type": "stream",
     "text": [
      "Error : 8.703714167304069\n",
      "No of total values Match : 60000\n",
      "number of correct match : 52603\n",
      "Accuracy:  87.67166666666667\n"
     ]
    },
    {
     "name": "stderr",
     "output_type": "stream",
     "text": [
      "  0%|                                                                                         | 0/1500 [00:00<?, ?it/s]"
     ]
    },
    {
     "name": "stdout",
     "output_type": "stream",
     "text": [
      "No of total values Match : 10000\n",
      "number of correct match : 8491\n",
      "Accuracy:  84.91\n",
      "classes : 10\n",
      "layer no : 0 No of neurons : 15 No of weights : 785 (15, 785)\n",
      "layer no : 1 No of neurons : 10 No of weights : 16 (10, 16)\n"
     ]
    },
    {
     "name": "stderr",
     "output_type": "stream",
     "text": [
      "100%|██████████████████████████████████████████████████████████████████████████████| 1500/1500 [18:36<00:00,  1.34it/s]\n"
     ]
    },
    {
     "name": "stdout",
     "output_type": "stream",
     "text": [
      "Error : 7.330373614419109\n",
      "No of total values Match : 60000\n",
      "number of correct match : 53453\n",
      "Accuracy:  89.08833333333334\n"
     ]
    },
    {
     "name": "stderr",
     "output_type": "stream",
     "text": [
      "  0%|                                                                                         | 0/1500 [00:00<?, ?it/s]"
     ]
    },
    {
     "name": "stdout",
     "output_type": "stream",
     "text": [
      "No of total values Match : 10000\n",
      "number of correct match : 8580\n",
      "Accuracy:  85.8\n",
      "classes : 10\n",
      "layer no : 0 No of neurons : 20 No of weights : 785 (20, 785)\n",
      "layer no : 1 No of neurons : 10 No of weights : 21 (10, 21)\n"
     ]
    },
    {
     "name": "stderr",
     "output_type": "stream",
     "text": [
      "100%|██████████████████████████████████████████████████████████████████████████████| 1500/1500 [21:45<00:00,  1.15it/s]\n"
     ]
    },
    {
     "name": "stdout",
     "output_type": "stream",
     "text": [
      "Error : 7.597090322124601\n",
      "No of total values Match : 60000\n",
      "number of correct match : 53905\n",
      "Accuracy:  89.84166666666667\n"
     ]
    },
    {
     "name": "stderr",
     "output_type": "stream",
     "text": [
      "  0%|                                                                                         | 0/1500 [00:00<?, ?it/s]"
     ]
    },
    {
     "name": "stdout",
     "output_type": "stream",
     "text": [
      "No of total values Match : 10000\n",
      "number of correct match : 8661\n",
      "Accuracy:  86.61\n",
      "classes : 10\n",
      "layer no : 0 No of neurons : 25 No of weights : 785 (25, 785)\n",
      "layer no : 1 No of neurons : 10 No of weights : 26 (10, 26)\n"
     ]
    },
    {
     "name": "stderr",
     "output_type": "stream",
     "text": [
      "100%|██████████████████████████████████████████████████████████████████████████████| 1500/1500 [21:52<00:00,  1.14it/s]\n"
     ]
    },
    {
     "name": "stdout",
     "output_type": "stream",
     "text": [
      "Error : 6.742214916764054\n",
      "No of total values Match : 60000\n",
      "number of correct match : 54053\n",
      "Accuracy:  90.08833333333334\n",
      "No of total values Match : 10000\n",
      "number of correct match : 8696\n",
      "Accuracy:  86.96\n",
      "Training Accuracies : [84.42, 87.67, 89.09, 89.84, 90.09]\n",
      "Testing Accuracies : [82.19, 84.91, 85.8, 86.61, 86.96]\n",
      "Time Taken : [992, 1125, 1116, 1306, 1312]\n"
     ]
    },
    {
     "data": {
      "image/png": "[encoded data removed]",
      "text/plain": [
       "<Figure size 432x288 with 1 Axes>"
      ]
     },
     "metadata": {
      "needs_background": "light"
     },
     "output_type": "display_data"
    },
    {
     "ename": "NameError",
     "evalue": "name 't' is not defined",
     "output_type": "error",
     "traceback": [
      "\u001b[1;31m---------------------------------------------------------------------------\u001b[0m",
      "\u001b[1;31mNameError\u001b[0m                                 Traceback (most recent call last)",
      "\u001b[1;32m<ipython-input-72-8e94cfe88b0c>\u001b[0m in \u001b[0;36m<module>\u001b[1;34m\u001b[0m\n\u001b[1;32m----> 1\u001b[1;33m \u001b[0mque_b_c\u001b[0m\u001b[1;33m(\u001b[0m\u001b[1;34m'adaptive'\u001b[0m\u001b[1;33m)\u001b[0m\u001b[1;33m\u001b[0m\u001b[1;33m\u001b[0m\u001b[0m\n\u001b[0m",
      "\u001b[1;32m<ipython-input-68-2bb78c21006b>\u001b[0m in \u001b[0;36mque_b_c\u001b[1;34m(learning_type)\u001b[0m\n\u001b[0;32m     18\u001b[0m   \u001b[0mplot_test_accuracy\u001b[0m\u001b[1;33m(\u001b[0m\u001b[1;34m'No of Neurons in Hidden Layer V/S Accuracies'\u001b[0m\u001b[1;33m,\u001b[0m\u001b[1;34m'No. of Neurons in Hidden layer -->'\u001b[0m\u001b[1;33m,\u001b[0m\u001b[1;34m'Accuracies'\u001b[0m\u001b[1;33m,\u001b[0m\u001b[0mhidden_layers\u001b[0m\u001b[1;33m,\u001b[0m\u001b[0mtest_accuracies\u001b[0m\u001b[1;33m,\u001b[0m\u001b[0mtraining_accuracies\u001b[0m\u001b[1;33m)\u001b[0m\u001b[1;33m\u001b[0m\u001b[1;33m\u001b[0m\u001b[0m\n\u001b[0;32m     19\u001b[0m   \u001b[1;31m#plot time taken to train the model\u001b[0m\u001b[1;33m\u001b[0m\u001b[1;33m\u001b[0m\u001b[1;33m\u001b[0m\u001b[0m\n\u001b[1;32m---> 20\u001b[1;33m   \u001b[0mplot_test_accuracy\u001b[0m\u001b[1;33m(\u001b[0m\u001b[1;34m'No of Neurons in Hidden Layer V/S Time Taken by Model'\u001b[0m\u001b[1;33m,\u001b[0m\u001b[1;34m'No. of Neurons in Hidden layer -->'\u001b[0m\u001b[1;33m,\u001b[0m\u001b[1;34m'Time in Seconds -->'\u001b[0m\u001b[1;33m,\u001b[0m\u001b[0mhidden_layers\u001b[0m\u001b[1;33m,\u001b[0m\u001b[1;33m[\u001b[0m\u001b[1;36m0\u001b[0m\u001b[1;33m]\u001b[0m\u001b[1;33m,\u001b[0m\u001b[0mt\u001b[0m\u001b[1;33m)\u001b[0m\u001b[1;33m\u001b[0m\u001b[1;33m\u001b[0m\u001b[0m\n\u001b[0m",
      "\u001b[1;31mNameError\u001b[0m: name 't' is not defined"
     ]
    }
   ],
   "source": [
    "basic_network('adaptive')"
   ]
  },
  {
   "cell_type": "markdown",
   "metadata": {},
   "source": [
    "# D. Relu acitvation function and how it is different from sigmoid"
   ]
  },
  {
   "cell_type": "code",
   "execution_count": 110,
   "metadata": {},
   "outputs": [],
   "source": [
    "def relu_network(learning_type='fixed'):\n",
    "\n",
    "  hidden_layers = [5,10,15,20,25]\n",
    "  training_accuracies = []\n",
    "  test_accuracies = []\n",
    "  time_taken = []\n",
    "  for neurons in hidden_layers:\n",
    "      t0 = time.time()\n",
    "      layers = train([neurons], 100, X_train, Y_train, 1500, 'relu',0.1,learning_type)\n",
    "      time_taken.append(round(time.time()-t0))\n",
    "      training_accuracies.append(accuracy_(layers, X_train, Y_train, 'relu'))\n",
    "      test_accuracies.append(accuracy_(layers, X_test, Y_test, 'relu'))\n",
    "  \n",
    "  print('Training Accuracies :', training_accuracies)\n",
    "  print('Testing Accuracies :', test_accuracies)\n",
    "  print('Time Taken :', time_taken)\n",
    "  #plot accuracies\n",
    "  plot_test_acc('No of Neurons in Hidden Layer V/S Accuracies','No. of Neurons in Hidden layer -->','Accuracies',hidden_layers,test_accuracies,training_accuracies)"
   ]
  },
  {
   "cell_type": "code",
   "execution_count": 111,
   "metadata": {
    "scrolled": true
   },
   "outputs": [
    {
     "name": "stderr",
     "output_type": "stream",
     "text": [
      "  0%|                                                                                         | 0/1500 [00:00<?, ?it/s]"
     ]
    },
    {
     "name": "stdout",
     "output_type": "stream",
     "text": [
      "classes : 10\n",
      "layer no : 0 No of neurons : 5 No of weights : 785 (5, 785)\n",
      "layer no : 1 No of neurons : 10 No of weights : 6 (10, 6)\n"
     ]
    },
    {
     "name": "stderr",
     "output_type": "stream",
     "text": [
      "100%|██████████████████████████████████████████████████████████████████████████████| 1500/1500 [16:17<00:00,  1.54it/s]\n"
     ]
    },
    {
     "name": "stdout",
     "output_type": "stream",
     "text": [
      "Error : 25.302147283768402\n",
      "No of total values Match : 60000\n",
      "number of correct match : 31884\n",
      "Accuracy:  53.14\n"
     ]
    },
    {
     "name": "stderr",
     "output_type": "stream",
     "text": [
      "  0%|                                                                                         | 0/1500 [00:00<?, ?it/s]"
     ]
    },
    {
     "name": "stdout",
     "output_type": "stream",
     "text": [
      "No of total values Match : 10000\n",
      "number of correct match : 5208\n",
      "Accuracy:  52.08\n",
      "classes : 10\n",
      "layer no : 0 No of neurons : 10 No of weights : 785 (10, 785)\n",
      "layer no : 1 No of neurons : 10 No of weights : 11 (10, 11)\n"
     ]
    },
    {
     "name": "stderr",
     "output_type": "stream",
     "text": [
      "100%|██████████████████████████████████████████████████████████████████████████████| 1500/1500 [17:48<00:00,  1.40it/s]\n"
     ]
    },
    {
     "name": "stdout",
     "output_type": "stream",
     "text": [
      "Error : 20.503284116993164\n",
      "No of total values Match : 60000\n",
      "number of correct match : 40437\n",
      "Accuracy:  67.395\n",
      "No of total values Match : 10000\n",
      "number of correct match : 6592\n"
     ]
    },
    {
     "name": "stderr",
     "output_type": "stream",
     "text": [
      "  0%|                                                                                         | 0/1500 [00:00<?, ?it/s]"
     ]
    },
    {
     "name": "stdout",
     "output_type": "stream",
     "text": [
      "Accuracy:  65.92\n",
      "classes : 10\n",
      "layer no : 0 No of neurons : 15 No of weights : 785 (15, 785)\n",
      "layer no : 1 No of neurons : 10 No of weights : 16 (10, 16)\n"
     ]
    },
    {
     "name": "stderr",
     "output_type": "stream",
     "text": [
      "100%|██████████████████████████████████████████████████████████████████████████████| 1500/1500 [16:28<00:00,  1.52it/s]\n"
     ]
    },
    {
     "name": "stdout",
     "output_type": "stream",
     "text": [
      "Error : 24.11693315960143\n",
      "No of total values Match : 60000\n",
      "number of correct match : 34946\n",
      "Accuracy:  58.24333333333333\n"
     ]
    },
    {
     "name": "stderr",
     "output_type": "stream",
     "text": [
      "  0%|                                                                                         | 0/1500 [00:00<?, ?it/s]"
     ]
    },
    {
     "name": "stdout",
     "output_type": "stream",
     "text": [
      "No of total values Match : 10000\n",
      "number of correct match : 5695\n",
      "Accuracy:  56.95\n",
      "classes : 10\n",
      "layer no : 0 No of neurons : 20 No of weights : 785 (20, 785)\n",
      "layer no : 1 No of neurons : 10 No of weights : 21 (10, 21)\n"
     ]
    },
    {
     "name": "stderr",
     "output_type": "stream",
     "text": [
      "100%|██████████████████████████████████████████████████████████████████████████████| 1500/1500 [20:00<00:00,  1.25it/s]\n"
     ]
    },
    {
     "name": "stdout",
     "output_type": "stream",
     "text": [
      "Error : 29.225837300405242\n",
      "No of total values Match : 60000\n",
      "number of correct match : 28985\n",
      "Accuracy:  48.30833333333333\n"
     ]
    },
    {
     "name": "stderr",
     "output_type": "stream",
     "text": [
      "  0%|                                                                                         | 0/1500 [00:00<?, ?it/s]"
     ]
    },
    {
     "name": "stdout",
     "output_type": "stream",
     "text": [
      "No of total values Match : 10000\n",
      "number of correct match : 4727\n",
      "Accuracy:  47.27\n",
      "classes : 10\n",
      "layer no : 0 No of neurons : 25 No of weights : 785 (25, 785)\n",
      "layer no : 1 No of neurons : 10 No of weights : 26 (10, 26)\n"
     ]
    },
    {
     "name": "stderr",
     "output_type": "stream",
     "text": [
      "100%|██████████████████████████████████████████████████████████████████████████████| 1500/1500 [22:25<00:00,  1.11it/s]\n"
     ]
    },
    {
     "name": "stdout",
     "output_type": "stream",
     "text": [
      "Error : 29.564096572449888\n",
      "No of total values Match : 60000\n",
      "number of correct match : 28428\n",
      "Accuracy:  47.38\n",
      "No of total values Match : 10000\n",
      "number of correct match : 4586\n",
      "Accuracy:  45.86\n",
      "Training Accuracies : [53.14, 67.4, 58.24, 48.31, 47.38]\n",
      "Testing Accuracies : [52.08, 65.92, 56.95, 47.27, 45.86]\n",
      "Time Taken : [977, 1068, 989, 1200, 1346]\n"
     ]
    },
    {
     "ename": "NameError",
     "evalue": "name 'title_text' is not defined",
     "output_type": "error",
     "traceback": [
      "\u001b[1;31m---------------------------------------------------------------------------\u001b[0m",
      "\u001b[1;31mNameError\u001b[0m                                 Traceback (most recent call last)",
      "\u001b[1;32m<ipython-input-111-44cda79ed3d8>\u001b[0m in \u001b[0;36m<module>\u001b[1;34m\u001b[0m\n\u001b[1;32m----> 1\u001b[1;33m \u001b[0mrelu_network\u001b[0m\u001b[1;33m(\u001b[0m\u001b[1;34m'adaptive'\u001b[0m\u001b[1;33m)\u001b[0m\u001b[1;33m\u001b[0m\u001b[1;33m\u001b[0m\u001b[0m\n\u001b[0m",
      "\u001b[1;32m<ipython-input-110-bfb91bb9d52f>\u001b[0m in \u001b[0;36mrelu_network\u001b[1;34m(learning_type)\u001b[0m\n\u001b[0;32m     16\u001b[0m   \u001b[0mprint\u001b[0m\u001b[1;33m(\u001b[0m\u001b[1;34m'Time Taken :'\u001b[0m\u001b[1;33m,\u001b[0m \u001b[0mtime_taken\u001b[0m\u001b[1;33m)\u001b[0m\u001b[1;33m\u001b[0m\u001b[1;33m\u001b[0m\u001b[0m\n\u001b[0;32m     17\u001b[0m   \u001b[1;31m#plot accuracies\u001b[0m\u001b[1;33m\u001b[0m\u001b[1;33m\u001b[0m\u001b[1;33m\u001b[0m\u001b[0m\n\u001b[1;32m---> 18\u001b[1;33m   \u001b[0mplot_test_acc\u001b[0m\u001b[1;33m(\u001b[0m\u001b[1;34m'No of Neurons in Hidden Layer V/S Accuracies'\u001b[0m\u001b[1;33m,\u001b[0m\u001b[1;34m'No. of Neurons in Hidden layer -->'\u001b[0m\u001b[1;33m,\u001b[0m\u001b[1;34m'Accuracies'\u001b[0m\u001b[1;33m,\u001b[0m\u001b[0mhidden_layers\u001b[0m\u001b[1;33m,\u001b[0m\u001b[0mtest_accuracies\u001b[0m\u001b[1;33m,\u001b[0m\u001b[0mtraining_accuracies\u001b[0m\u001b[1;33m)\u001b[0m\u001b[1;33m\u001b[0m\u001b[1;33m\u001b[0m\u001b[0m\n\u001b[0m",
      "\u001b[1;32m<ipython-input-102-9c4bdf26be9c>\u001b[0m in \u001b[0;36mplot_test_acc\u001b[1;34m(title, X_label, Y_label, X_Axis, test_accuracies, training_accuracies)\u001b[0m\n\u001b[0;32m      7\u001b[0m   \u001b[0mplt\u001b[0m\u001b[1;33m.\u001b[0m\u001b[0mxlabel\u001b[0m\u001b[1;33m(\u001b[0m\u001b[0mX_label\u001b[0m\u001b[1;33m)\u001b[0m\u001b[1;33m\u001b[0m\u001b[1;33m\u001b[0m\u001b[0m\n\u001b[0;32m      8\u001b[0m   \u001b[0mplt\u001b[0m\u001b[1;33m.\u001b[0m\u001b[0mylabel\u001b[0m\u001b[1;33m(\u001b[0m\u001b[0mY_label\u001b[0m\u001b[1;33m)\u001b[0m\u001b[1;33m\u001b[0m\u001b[1;33m\u001b[0m\u001b[0m\n\u001b[1;32m----> 9\u001b[1;33m   \u001b[0mplt\u001b[0m\u001b[1;33m.\u001b[0m\u001b[0mtitle\u001b[0m\u001b[1;33m(\u001b[0m\u001b[0mtitle_text\u001b[0m\u001b[1;33m)\u001b[0m\u001b[1;33m\u001b[0m\u001b[1;33m\u001b[0m\u001b[0m\n\u001b[0m\u001b[0;32m     10\u001b[0m   \u001b[0mplt\u001b[0m\u001b[1;33m.\u001b[0m\u001b[0mxticks\u001b[0m\u001b[1;33m(\u001b[0m\u001b[0mX_Axis\u001b[0m\u001b[1;33m)\u001b[0m\u001b[1;33m\u001b[0m\u001b[1;33m\u001b[0m\u001b[0m\n\u001b[0;32m     11\u001b[0m   \u001b[0mplt\u001b[0m\u001b[1;33m.\u001b[0m\u001b[0mlegend\u001b[0m\u001b[1;33m(\u001b[0m\u001b[0mloc\u001b[0m\u001b[1;33m=\u001b[0m\u001b[1;34m'lower right'\u001b[0m\u001b[1;33m)\u001b[0m\u001b[1;33m\u001b[0m\u001b[1;33m\u001b[0m\u001b[0m\n",
      "\u001b[1;31mNameError\u001b[0m: name 'title_text' is not defined"
     ]
    },
    {
     "data": {
      "image/png": "[encoded data removed]",
      "text/plain": [
       "<Figure size 432x288 with 1 Axes>"
      ]
     },
     "metadata": {
      "needs_background": "light"
     },
     "output_type": "display_data"
    }
   ],
   "source": [
    "relu_network('adaptive')"
   ]
  },
  {
   "cell_type": "code",
   "execution_count": 23,
   "metadata": {},
   "outputs": [
    {
     "name": "stderr",
     "output_type": "stream",
     "text": [
      "  0%|                                                                                         | 0/1500 [00:00<?, ?it/s]"
     ]
    },
    {
     "name": "stdout",
     "output_type": "stream",
     "text": [
      "Activation function : sigmoid\n",
      "classes : 10\n",
      "layer no : 0 No of neurons : 100 No of weights : 785 (100, 785)\n",
      "layer no : 1 No of neurons : 100 No of weights : 101 (100, 101)\n",
      "layer no : 2 No of neurons : 10 No of weights : 101 (10, 101)\n"
     ]
    },
    {
     "name": "stderr",
     "output_type": "stream",
     "text": [
      "100%|██████████████████████████████████████████████████████████████████████████████| 1500/1500 [51:19<00:00,  2.05s/it]\n"
     ]
    },
    {
     "name": "stdout",
     "output_type": "stream",
     "text": [
      "Error : 6.026265831244133\n",
      "No of total values Match : 60000\n",
      "number of correct match : 55475\n",
      "Accuracy:  92.45833333333333\n",
      "No of total values Match : 10000\n",
      "number of correct match : 8835\n",
      "Accuracy:  88.35\n"
     ]
    },
    {
     "data": {
      "text/plain": [
       "88.35"
      ]
     },
     "execution_count": 23,
     "metadata": {},
     "output_type": "execute_result"
    }
   ],
   "source": [
    "print('Activation function : sigmoid')\n",
    "layers = train([100,100], 100, X_train, Y_train, 1500, 'sigmoid',0.1,'adaptive')\n",
    "accuracy_(layers, X_train, Y_train, 'sigmoid')\n",
    "accuracy_(layers, X_test, Y_test, 'sigmoid')\n"
   ]
  },
  {
   "cell_type": "markdown",
   "metadata": {},
   "source": [
    "# E. 5 hidden layers and 50 units per layer\n"
   ]
  },
  {
   "cell_type": "code",
   "execution_count": 112,
   "metadata": {
    "scrolled": true
   },
   "outputs": [],
   "source": [
    "def more_layers(learning_type='fixed'):\n",
    "\n",
    "  hidden_layers = [50,50,50,50,50]\n",
    "  training_accuracies = []\n",
    "  test_accuracies = []\n",
    "  time_taken = []\n",
    "  for neurons in hidden_layers:\n",
    "      t0 = time.time()\n",
    "      layers = train([neurons], 100, X_train, Y_train, 1500, 'sigmoid',0.1,learning_type)\n",
    "      time_taken.append(round(time.time()-t0))\n",
    "      training_accuracies.append(accuracy_(layers, X_train, Y_train, 'sigmoid'))\n",
    "      test_accuracies.append(accuracy_(layers, X_test, Y_test, 'sigmoid'))\n",
    "  \n",
    "  print('Training Accuracies :', training_accuracies)\n",
    "  print('Testing Accuracies :', test_accuracies)\n",
    "  print('Time Taken :', time_taken)\n",
    "  #plot accuracies\n",
    "  plot_test_acc('No of Neurons in Hidden Layer V/S Accuracies','No. of Neurons in Hidden layer -->','Accuracies',hidden_layers,test_accuracies,training_accuracies)"
   ]
  },
  {
   "cell_type": "code",
   "execution_count": 113,
   "metadata": {},
   "outputs": [
    {
     "name": "stderr",
     "output_type": "stream",
     "text": [
      "  0%|                                                                                         | 0/1500 [00:00<?, ?it/s]"
     ]
    },
    {
     "name": "stdout",
     "output_type": "stream",
     "text": [
      "classes : 10\n",
      "layer no : 0 No of neurons : 50 No of weights : 785 (50, 785)\n",
      "layer no : 1 No of neurons : 10 No of weights : 51 (10, 51)\n"
     ]
    },
    {
     "name": "stderr",
     "output_type": "stream",
     "text": [
      "100%|██████████████████████████████████████████████████████████████████████████████| 1500/1500 [29:10<00:00,  1.17s/it]\n"
     ]
    },
    {
     "name": "stdout",
     "output_type": "stream",
     "text": [
      "Error : 6.346123310976623\n",
      "No of total values Match : 60000\n",
      "number of correct match : 54568\n",
      "Accuracy:  90.94666666666667\n"
     ]
    },
    {
     "name": "stderr",
     "output_type": "stream",
     "text": [
      "  0%|                                                                                         | 0/1500 [00:00<?, ?it/s]"
     ]
    },
    {
     "name": "stdout",
     "output_type": "stream",
     "text": [
      "No of total values Match : 10000\n",
      "number of correct match : 8775\n",
      "Accuracy:  87.75\n",
      "classes : 10\n",
      "layer no : 0 No of neurons : 50 No of weights : 785 (50, 785)\n",
      "layer no : 1 No of neurons : 10 No of weights : 51 (10, 51)\n"
     ]
    },
    {
     "name": "stderr",
     "output_type": "stream",
     "text": [
      "100%|██████████████████████████████████████████████████████████████████████████████| 1500/1500 [26:57<00:00,  1.08s/it]\n"
     ]
    },
    {
     "name": "stdout",
     "output_type": "stream",
     "text": [
      "Error : 6.780349537528832\n",
      "No of total values Match : 60000\n",
      "number of correct match : 54532\n",
      "Accuracy:  90.88666666666667\n"
     ]
    },
    {
     "name": "stderr",
     "output_type": "stream",
     "text": [
      "  0%|                                                                                         | 0/1500 [00:00<?, ?it/s]"
     ]
    },
    {
     "name": "stdout",
     "output_type": "stream",
     "text": [
      "No of total values Match : 10000\n",
      "number of correct match : 8802\n",
      "Accuracy:  88.02\n",
      "classes : 10\n",
      "layer no : 0 No of neurons : 50 No of weights : 785 (50, 785)\n",
      "layer no : 1 No of neurons : 10 No of weights : 51 (10, 51)\n"
     ]
    },
    {
     "name": "stderr",
     "output_type": "stream",
     "text": [
      "100%|██████████████████████████████████████████████████████████████████████████████| 1500/1500 [24:04<00:00,  1.04it/s]\n"
     ]
    },
    {
     "name": "stdout",
     "output_type": "stream",
     "text": [
      "Error : 6.821421751935156\n",
      "No of total values Match : 60000\n",
      "number of correct match : 54517\n",
      "Accuracy:  90.86166666666666\n"
     ]
    },
    {
     "name": "stderr",
     "output_type": "stream",
     "text": [
      "  0%|                                                                                         | 0/1500 [00:00<?, ?it/s]"
     ]
    },
    {
     "name": "stdout",
     "output_type": "stream",
     "text": [
      "No of total values Match : 10000\n",
      "number of correct match : 8784\n",
      "Accuracy:  87.84\n",
      "classes : 10\n",
      "layer no : 0 No of neurons : 50 No of weights : 785 (50, 785)\n",
      "layer no : 1 No of neurons : 10 No of weights : 51 (10, 51)\n"
     ]
    },
    {
     "name": "stderr",
     "output_type": "stream",
     "text": [
      "100%|██████████████████████████████████████████████████████████████████████████████| 1500/1500 [25:54<00:00,  1.04s/it]\n"
     ]
    },
    {
     "name": "stdout",
     "output_type": "stream",
     "text": [
      "Error : 6.839956716295603\n",
      "No of total values Match : 60000\n",
      "number of correct match : 54634\n",
      "Accuracy:  91.05666666666667\n"
     ]
    },
    {
     "name": "stderr",
     "output_type": "stream",
     "text": [
      "  0%|                                                                                         | 0/1500 [00:00<?, ?it/s]"
     ]
    },
    {
     "name": "stdout",
     "output_type": "stream",
     "text": [
      "No of total values Match : 10000\n",
      "number of correct match : 8775\n",
      "Accuracy:  87.75\n",
      "classes : 10\n",
      "layer no : 0 No of neurons : 50 No of weights : 785 (50, 785)\n",
      "layer no : 1 No of neurons : 10 No of weights : 51 (10, 51)\n"
     ]
    },
    {
     "name": "stderr",
     "output_type": "stream",
     "text": [
      "100%|██████████████████████████████████████████████████████████████████████████████| 1500/1500 [26:09<00:00,  1.05s/it]\n"
     ]
    },
    {
     "name": "stdout",
     "output_type": "stream",
     "text": [
      "Error : 6.526810489956394\n",
      "No of total values Match : 60000\n",
      "number of correct match : 54566\n",
      "Accuracy:  90.94333333333333\n",
      "No of total values Match : 10000\n",
      "number of correct match : 8767\n",
      "Accuracy:  87.67\n",
      "Training Accuracies : [90.95, 90.89, 90.86, 91.06, 90.94]\n",
      "Testing Accuracies : [87.75, 88.02, 87.84, 87.75, 87.67]\n",
      "Time Taken : [1751, 1618, 1445, 1555, 1569]\n"
     ]
    },
    {
     "ename": "NameError",
     "evalue": "name 'title_text' is not defined",
     "output_type": "error",
     "traceback": [
      "\u001b[1;31m---------------------------------------------------------------------------\u001b[0m",
      "\u001b[1;31mNameError\u001b[0m                                 Traceback (most recent call last)",
      "\u001b[1;32m<ipython-input-113-d30dc3dbebc6>\u001b[0m in \u001b[0;36m<module>\u001b[1;34m\u001b[0m\n\u001b[1;32m----> 1\u001b[1;33m \u001b[0mmore_layers\u001b[0m\u001b[1;33m(\u001b[0m\u001b[1;34m'adaptive'\u001b[0m\u001b[1;33m)\u001b[0m\u001b[1;33m\u001b[0m\u001b[1;33m\u001b[0m\u001b[0m\n\u001b[0m",
      "\u001b[1;32m<ipython-input-112-c5883848d582>\u001b[0m in \u001b[0;36mmore_layers\u001b[1;34m(learning_type)\u001b[0m\n\u001b[0;32m     16\u001b[0m   \u001b[0mprint\u001b[0m\u001b[1;33m(\u001b[0m\u001b[1;34m'Time Taken :'\u001b[0m\u001b[1;33m,\u001b[0m \u001b[0mtime_taken\u001b[0m\u001b[1;33m)\u001b[0m\u001b[1;33m\u001b[0m\u001b[1;33m\u001b[0m\u001b[0m\n\u001b[0;32m     17\u001b[0m   \u001b[1;31m#plot accuracies\u001b[0m\u001b[1;33m\u001b[0m\u001b[1;33m\u001b[0m\u001b[1;33m\u001b[0m\u001b[0m\n\u001b[1;32m---> 18\u001b[1;33m   \u001b[0mplot_test_acc\u001b[0m\u001b[1;33m(\u001b[0m\u001b[1;34m'No of Neurons in Hidden Layer V/S Accuracies'\u001b[0m\u001b[1;33m,\u001b[0m\u001b[1;34m'No. of Neurons in Hidden layer -->'\u001b[0m\u001b[1;33m,\u001b[0m\u001b[1;34m'Accuracies'\u001b[0m\u001b[1;33m,\u001b[0m\u001b[0mhidden_layers\u001b[0m\u001b[1;33m,\u001b[0m\u001b[0mtest_accuracies\u001b[0m\u001b[1;33m,\u001b[0m\u001b[0mtraining_accuracies\u001b[0m\u001b[1;33m)\u001b[0m\u001b[1;33m\u001b[0m\u001b[1;33m\u001b[0m\u001b[0m\n\u001b[0m",
      "\u001b[1;32m<ipython-input-102-9c4bdf26be9c>\u001b[0m in \u001b[0;36mplot_test_acc\u001b[1;34m(title, X_label, Y_label, X_Axis, test_accuracies, training_accuracies)\u001b[0m\n\u001b[0;32m      7\u001b[0m   \u001b[0mplt\u001b[0m\u001b[1;33m.\u001b[0m\u001b[0mxlabel\u001b[0m\u001b[1;33m(\u001b[0m\u001b[0mX_label\u001b[0m\u001b[1;33m)\u001b[0m\u001b[1;33m\u001b[0m\u001b[1;33m\u001b[0m\u001b[0m\n\u001b[0;32m      8\u001b[0m   \u001b[0mplt\u001b[0m\u001b[1;33m.\u001b[0m\u001b[0mylabel\u001b[0m\u001b[1;33m(\u001b[0m\u001b[0mY_label\u001b[0m\u001b[1;33m)\u001b[0m\u001b[1;33m\u001b[0m\u001b[1;33m\u001b[0m\u001b[0m\n\u001b[1;32m----> 9\u001b[1;33m   \u001b[0mplt\u001b[0m\u001b[1;33m.\u001b[0m\u001b[0mtitle\u001b[0m\u001b[1;33m(\u001b[0m\u001b[0mtitle_text\u001b[0m\u001b[1;33m)\u001b[0m\u001b[1;33m\u001b[0m\u001b[1;33m\u001b[0m\u001b[0m\n\u001b[0m\u001b[0;32m     10\u001b[0m   \u001b[0mplt\u001b[0m\u001b[1;33m.\u001b[0m\u001b[0mxticks\u001b[0m\u001b[1;33m(\u001b[0m\u001b[0mX_Axis\u001b[0m\u001b[1;33m)\u001b[0m\u001b[1;33m\u001b[0m\u001b[1;33m\u001b[0m\u001b[0m\n\u001b[0;32m     11\u001b[0m   \u001b[0mplt\u001b[0m\u001b[1;33m.\u001b[0m\u001b[0mlegend\u001b[0m\u001b[1;33m(\u001b[0m\u001b[0mloc\u001b[0m\u001b[1;33m=\u001b[0m\u001b[1;34m'lower right'\u001b[0m\u001b[1;33m)\u001b[0m\u001b[1;33m\u001b[0m\u001b[1;33m\u001b[0m\u001b[0m\n",
      "\u001b[1;31mNameError\u001b[0m: name 'title_text' is not defined"
     ]
    },
    {
     "data": {
      "image/png": "[encoded data removed]",
      "text/plain": [
       "<Figure size 432x288 with 1 Axes>"
      ]
     },
     "metadata": {
      "needs_background": "light"
     },
     "output_type": "display_data"
    }
   ],
   "source": [
    "more_layers('adaptive')"
   ]
  },
  {
   "cell_type": "code",
   "execution_count": 114,
   "metadata": {},
   "outputs": [],
   "source": [
    "def more_layers(learning_type='fixed'):\n",
    "\n",
    "  hidden_layers = [50,50,50,50,50]\n",
    "  training_accuracies = []\n",
    "  test_accuracies = []\n",
    "  time_taken = []\n",
    "  for neurons in hidden_layers:\n",
    "      t0 = time.time()\n",
    "      layers = train([neurons], 100, X_train, Y_train, 1500, 'relu',0.1,learning_type)\n",
    "      time_taken.append(round(time.time()-t0))\n",
    "      training_accuracies.append(accuracy_(layers, X_train, Y_train, 'relu'))\n",
    "      test_accuracies.append(accuracy_(layers, X_test, Y_test, 'relu'))\n",
    "  \n",
    "  print('Training Accuracies :', training_accuracies)\n",
    "  print('Testing Accuracies :', test_accuracies)\n",
    "  print('Time Taken :', time_taken)\n",
    "  #plot accuracies\n",
    "  plot_test_acc('No of Neurons in Hidden Layer V/S Accuracies','No. of Neurons in Hidden layer -->','Accuracies',hidden_layers,test_accuracies,training_accuracies)"
   ]
  },
  {
   "cell_type": "code",
   "execution_count": 115,
   "metadata": {
    "scrolled": true
   },
   "outputs": [
    {
     "name": "stderr",
     "output_type": "stream",
     "text": [
      "  0%|                                                                                         | 0/1500 [00:00<?, ?it/s]"
     ]
    },
    {
     "name": "stdout",
     "output_type": "stream",
     "text": [
      "classes : 10\n",
      "layer no : 0 No of neurons : 50 No of weights : 785 (50, 785)\n",
      "layer no : 1 No of neurons : 10 No of weights : 51 (10, 51)\n"
     ]
    },
    {
     "name": "stderr",
     "output_type": "stream",
     "text": [
      "100%|██████████████████████████████████████████████████████████████████████████████| 1500/1500 [28:18<00:00,  1.13s/it]\n"
     ]
    },
    {
     "name": "stdout",
     "output_type": "stream",
     "text": [
      "Error : 27.27908526687034\n",
      "No of total values Match : 60000\n",
      "number of correct match : 29432\n",
      "Accuracy:  49.053333333333335\n",
      "No of total values Match : 10000\n"
     ]
    },
    {
     "name": "stderr",
     "output_type": "stream",
     "text": [
      "  0%|                                                                                         | 0/1500 [00:00<?, ?it/s]"
     ]
    },
    {
     "name": "stdout",
     "output_type": "stream",
     "text": [
      "number of correct match : 4800\n",
      "Accuracy:  48.0\n",
      "classes : 10\n",
      "layer no : 0 No of neurons : 50 No of weights : 785 (50, 785)\n",
      "layer no : 1 No of neurons : 10 No of weights : 51 (10, 51)\n"
     ]
    },
    {
     "name": "stderr",
     "output_type": "stream",
     "text": [
      "100%|██████████████████████████████████████████████████████████████████████████████| 1500/1500 [47:12<00:00,  1.89s/it]\n"
     ]
    },
    {
     "name": "stdout",
     "output_type": "stream",
     "text": [
      "Error : 22.209761369031924\n",
      "No of total values Match : 60000\n",
      "number of correct match : 35023\n",
      "Accuracy:  58.37166666666667\n"
     ]
    },
    {
     "name": "stderr",
     "output_type": "stream",
     "text": [
      "  0%|                                                                                         | 0/1500 [00:00<?, ?it/s]"
     ]
    },
    {
     "name": "stdout",
     "output_type": "stream",
     "text": [
      "No of total values Match : 10000\n",
      "number of correct match : 5706\n",
      "Accuracy:  57.06\n",
      "classes : 10\n",
      "layer no : 0 No of neurons : 50 No of weights : 785 (50, 785)\n",
      "layer no : 1 No of neurons : 10 No of weights : 51 (10, 51)\n"
     ]
    },
    {
     "name": "stderr",
     "output_type": "stream",
     "text": [
      "100%|██████████████████████████████████████████████████████████████████████████████| 1500/1500 [42:31<00:00,  1.70s/it]\n"
     ]
    },
    {
     "name": "stdout",
     "output_type": "stream",
     "text": [
      "Error : 25.416564672296882\n",
      "No of total values Match : 60000\n",
      "number of correct match : 29472\n",
      "Accuracy:  49.12\n"
     ]
    },
    {
     "name": "stderr",
     "output_type": "stream",
     "text": [
      "  0%|                                                                                         | 0/1500 [00:00<?, ?it/s]"
     ]
    },
    {
     "name": "stdout",
     "output_type": "stream",
     "text": [
      "No of total values Match : 10000\n",
      "number of correct match : 4838\n",
      "Accuracy:  48.38\n",
      "classes : 10\n",
      "layer no : 0 No of neurons : 50 No of weights : 785 (50, 785)\n",
      "layer no : 1 No of neurons : 10 No of weights : 51 (10, 51)\n"
     ]
    },
    {
     "name": "stderr",
     "output_type": "stream",
     "text": [
      "100%|██████████████████████████████████████████████████████████████████████████████| 1500/1500 [33:35<00:00,  1.34s/it]\n"
     ]
    },
    {
     "name": "stdout",
     "output_type": "stream",
     "text": [
      "Error : 16.73170436193174\n",
      "No of total values Match : 60000\n",
      "number of correct match : 40443\n",
      "Accuracy:  67.405\n"
     ]
    },
    {
     "name": "stderr",
     "output_type": "stream",
     "text": [
      "  0%|                                                                                         | 0/1500 [00:00<?, ?it/s]"
     ]
    },
    {
     "name": "stdout",
     "output_type": "stream",
     "text": [
      "No of total values Match : 10000\n",
      "number of correct match : 6562\n",
      "Accuracy:  65.62\n",
      "classes : 10\n",
      "layer no : 0 No of neurons : 50 No of weights : 785 (50, 785)\n",
      "layer no : 1 No of neurons : 10 No of weights : 51 (10, 51)\n"
     ]
    },
    {
     "name": "stderr",
     "output_type": "stream",
     "text": [
      "100%|██████████████████████████████████████████████████████████████████████████████| 1500/1500 [38:22<00:00,  1.54s/it]\n"
     ]
    },
    {
     "name": "stdout",
     "output_type": "stream",
     "text": [
      "Error : 32.154925692782925\n",
      "No of total values Match : 60000\n",
      "number of correct match : 23803\n",
      "Accuracy:  39.67166666666667\n",
      "No of total values Match : 10000\n",
      "number of correct match : 3932\n",
      "Accuracy:  39.32\n",
      "Training Accuracies : [49.05, 58.37, 49.12, 67.4, 39.67]\n",
      "Testing Accuracies : [48.0, 57.06, 48.38, 65.62, 39.32]\n",
      "Time Taken : [1699, 2832, 2551, 2015, 2303]\n"
     ]
    },
    {
     "ename": "NameError",
     "evalue": "name 'title_text' is not defined",
     "output_type": "error",
     "traceback": [
      "\u001b[1;31m---------------------------------------------------------------------------\u001b[0m",
      "\u001b[1;31mNameError\u001b[0m                                 Traceback (most recent call last)",
      "\u001b[1;32m<ipython-input-115-d30dc3dbebc6>\u001b[0m in \u001b[0;36m<module>\u001b[1;34m\u001b[0m\n\u001b[1;32m----> 1\u001b[1;33m \u001b[0mmore_layers\u001b[0m\u001b[1;33m(\u001b[0m\u001b[1;34m'adaptive'\u001b[0m\u001b[1;33m)\u001b[0m\u001b[1;33m\u001b[0m\u001b[1;33m\u001b[0m\u001b[0m\n\u001b[0m",
      "\u001b[1;32m<ipython-input-114-df9b3f98432c>\u001b[0m in \u001b[0;36mmore_layers\u001b[1;34m(learning_type)\u001b[0m\n\u001b[0;32m     16\u001b[0m   \u001b[0mprint\u001b[0m\u001b[1;33m(\u001b[0m\u001b[1;34m'Time Taken :'\u001b[0m\u001b[1;33m,\u001b[0m \u001b[0mtime_taken\u001b[0m\u001b[1;33m)\u001b[0m\u001b[1;33m\u001b[0m\u001b[1;33m\u001b[0m\u001b[0m\n\u001b[0;32m     17\u001b[0m   \u001b[1;31m#plot accuracies\u001b[0m\u001b[1;33m\u001b[0m\u001b[1;33m\u001b[0m\u001b[1;33m\u001b[0m\u001b[0m\n\u001b[1;32m---> 18\u001b[1;33m   \u001b[0mplot_test_acc\u001b[0m\u001b[1;33m(\u001b[0m\u001b[1;34m'No of Neurons in Hidden Layer V/S Accuracies'\u001b[0m\u001b[1;33m,\u001b[0m\u001b[1;34m'No. of Neurons in Hidden layer -->'\u001b[0m\u001b[1;33m,\u001b[0m\u001b[1;34m'Accuracies'\u001b[0m\u001b[1;33m,\u001b[0m\u001b[0mhidden_layers\u001b[0m\u001b[1;33m,\u001b[0m\u001b[0mtest_accuracies\u001b[0m\u001b[1;33m,\u001b[0m\u001b[0mtraining_accuracies\u001b[0m\u001b[1;33m)\u001b[0m\u001b[1;33m\u001b[0m\u001b[1;33m\u001b[0m\u001b[0m\n\u001b[0m",
      "\u001b[1;32m<ipython-input-102-9c4bdf26be9c>\u001b[0m in \u001b[0;36mplot_test_acc\u001b[1;34m(title, X_label, Y_label, X_Axis, test_accuracies, training_accuracies)\u001b[0m\n\u001b[0;32m      7\u001b[0m   \u001b[0mplt\u001b[0m\u001b[1;33m.\u001b[0m\u001b[0mxlabel\u001b[0m\u001b[1;33m(\u001b[0m\u001b[0mX_label\u001b[0m\u001b[1;33m)\u001b[0m\u001b[1;33m\u001b[0m\u001b[1;33m\u001b[0m\u001b[0m\n\u001b[0;32m      8\u001b[0m   \u001b[0mplt\u001b[0m\u001b[1;33m.\u001b[0m\u001b[0mylabel\u001b[0m\u001b[1;33m(\u001b[0m\u001b[0mY_label\u001b[0m\u001b[1;33m)\u001b[0m\u001b[1;33m\u001b[0m\u001b[1;33m\u001b[0m\u001b[0m\n\u001b[1;32m----> 9\u001b[1;33m   \u001b[0mplt\u001b[0m\u001b[1;33m.\u001b[0m\u001b[0mtitle\u001b[0m\u001b[1;33m(\u001b[0m\u001b[0mtitle_text\u001b[0m\u001b[1;33m)\u001b[0m\u001b[1;33m\u001b[0m\u001b[1;33m\u001b[0m\u001b[0m\n\u001b[0m\u001b[0;32m     10\u001b[0m   \u001b[0mplt\u001b[0m\u001b[1;33m.\u001b[0m\u001b[0mxticks\u001b[0m\u001b[1;33m(\u001b[0m\u001b[0mX_Axis\u001b[0m\u001b[1;33m)\u001b[0m\u001b[1;33m\u001b[0m\u001b[1;33m\u001b[0m\u001b[0m\n\u001b[0;32m     11\u001b[0m   \u001b[0mplt\u001b[0m\u001b[1;33m.\u001b[0m\u001b[0mlegend\u001b[0m\u001b[1;33m(\u001b[0m\u001b[0mloc\u001b[0m\u001b[1;33m=\u001b[0m\u001b[1;34m'lower right'\u001b[0m\u001b[1;33m)\u001b[0m\u001b[1;33m\u001b[0m\u001b[1;33m\u001b[0m\u001b[0m\n",
      "\u001b[1;31mNameError\u001b[0m: name 'title_text' is not defined"
     ]
    },
    {
     "data": {
      "image/png": "[encoded data removed]",
      "text/plain": [
       "<Figure size 432x288 with 1 Axes>"
      ]
     },
     "metadata": {
      "needs_background": "light"
     },
     "output_type": "display_data"
    }
   ],
   "source": [
    "more_layers('adaptive')"
   ]
  },
  {
   "cell_type": "markdown",
   "metadata": {},
   "source": [
    "# F. Binary Cross-entroy "
   ]
  },
  {
   "cell_type": "code",
   "execution_count": 69,
   "metadata": {},
   "outputs": [],
   "source": [
    "def compute_bce_cost(labels, predictions):\n",
    "    \"\"\"\n",
    "    This function computes Binary Cross-Entropy(bce) Cost and returns the Cost and its\n",
    "    derivative.\n",
    "    This function uses the following Binary Cross-Entropy Cost defined as:\n",
    "    => (1/m) * np.sum(-Y*np.log(P_hat) - (1-Y)*np.log(1-P_hat)\n",
    "    \"\"\"\n",
    "    m = labels.shape[1]  # m -> number of examples in the batch\n",
    "    cost = (1/m) * np.sum(-labels*np.log(predictions) - (1-labels)*np.log(predictions))\n",
    "    cost = np.squeeze(cost)  # remove extraneous dimensions to give just a scalar (e.g. this turns [[17]] into 17)\n",
    "    dP_hat = (1/m) * (-(labels/predictions) + ((labels)/(predictions)))\n",
    "    return cost, dP_hat"
   ]
  },
  {
   "cell_type": "code",
   "execution_count": 70,
   "metadata": {},
   "outputs": [],
   "source": [
    "def train_per_batch(layers, features, labels, af, lr, nt):\n",
    "    #features is a subset of x\n",
    "    #labels is subset of y\n",
    "    batch_size = 100\n",
    "    forward_prop(features, af, layers, batch_size) #forward propagation\n",
    "    \n",
    "    #get the prediction of output layer\n",
    "    last_layer = len(layers) - 1\n",
    "    last_layer_input = layers[last_layer][\"net_input\"]\n",
    "    last_layer_weight = layers[last_layer][\"weights\"].T\n",
    "    z = np.dot(last_layer_input,last_layer_weight)\n",
    "# predictions = sigmoid(z)\n",
    "    predictions = activation_fn(z,'sigmoid')\n",
    "    #output of lastlayer\n",
    "    #compute mean squared error\n",
    "    error = compute_bce_cost(labels, predictions)\n",
    "    #back propagate the error to update weights\n",
    "    back_prop(labels, predictions, last_layer, layers, lr, af,batch_size )\n",
    "    \n",
    "    return error"
   ]
  },
  {
   "cell_type": "code",
   "execution_count": 71,
   "metadata": {},
   "outputs": [],
   "source": [
    "def train(nodes_per_layer, batch_size, Y_train, train_labels, num_epochs, af, lr, learning_type='fixed',initial_weight=0.1):\n",
    "    total_features = Y_train.shape[1] # total attributes\n",
    "    total_classes = train_labels.shape[1] # total classes\n",
    "    print('classes :',total_classes)\n",
    "    layers = define_layers(nodes_per_layer, total_features, total_classes, batch_size,initial_weight)\n",
    "    dataset_size = len(Y_train)\n",
    "    n0 = 0.5 #initial point\n",
    "    for j in tqdm(range(1,num_epochs+1)):\n",
    "        if learning_type =='adaptive':\n",
    "          lr = n0/np.sqrt(j) #condition to run adaptive network \n",
    "        i = 0\n",
    "        while i+batch_size <= dataset_size :\n",
    "            train_features_= Y_train[i:i+batch_size]\n",
    "            train_labels_= train_labels[i:i+batch_size]\n",
    "            error = train_per_batch(layers, train_features_,train_labels_ , af, lr, 2.0)\n",
    "            i +=batch_size\n",
    "    print('Error :',error) \n",
    "    return layers"
   ]
  },
  {
   "cell_type": "code",
   "execution_count": 72,
   "metadata": {},
   "outputs": [
    {
     "name": "stderr",
     "output_type": "stream",
     "text": [
      "  0%|                                                                                         | 0/1000 [00:00<?, ?it/s]"
     ]
    },
    {
     "name": "stdout",
     "output_type": "stream",
     "text": [
      "Activation function : sigmoid\n",
      "classes : 10\n",
      "layer no : 0 No of neurons : 100 No of weights : 785 (100, 785)\n",
      "layer no : 1 No of neurons : 100 No of weights : 101 (100, 101)\n",
      "layer no : 2 No of neurons : 10 No of weights : 101 (10, 101)\n"
     ]
    },
    {
     "name": "stderr",
     "output_type": "stream",
     "text": [
      "100%|██████████████████████████████████████████████████████████████████████████████| 1000/1000 [37:00<00:00,  2.22s/it]\n"
     ]
    },
    {
     "name": "stdout",
     "output_type": "stream",
     "text": [
      "Error : (771.5373716250961, array([[0., 0., 0., 0., 0., 0., 0., 0., 0., 0.],\n",
      "       [0., 0., 0., 0., 0., 0., 0., 0., 0., 0.],\n",
      "       [0., 0., 0., 0., 0., 0., 0., 0., 0., 0.],\n",
      "       [0., 0., 0., 0., 0., 0., 0., 0., 0., 0.],\n",
      "       [0., 0., 0., 0., 0., 0., 0., 0., 0., 0.],\n",
      "       [0., 0., 0., 0., 0., 0., 0., 0., 0., 0.],\n",
      "       [0., 0., 0., 0., 0., 0., 0., 0., 0., 0.],\n",
      "       [0., 0., 0., 0., 0., 0., 0., 0., 0., 0.],\n",
      "       [0., 0., 0., 0., 0., 0., 0., 0., 0., 0.],\n",
      "       [0., 0., 0., 0., 0., 0., 0., 0., 0., 0.],\n",
      "       [0., 0., 0., 0., 0., 0., 0., 0., 0., 0.],\n",
      "       [0., 0., 0., 0., 0., 0., 0., 0., 0., 0.],\n",
      "       [0., 0., 0., 0., 0., 0., 0., 0., 0., 0.],\n",
      "       [0., 0., 0., 0., 0., 0., 0., 0., 0., 0.],\n",
      "       [0., 0., 0., 0., 0., 0., 0., 0., 0., 0.],\n",
      "       [0., 0., 0., 0., 0., 0., 0., 0., 0., 0.],\n",
      "       [0., 0., 0., 0., 0., 0., 0., 0., 0., 0.],\n",
      "       [0., 0., 0., 0., 0., 0., 0., 0., 0., 0.],\n",
      "       [0., 0., 0., 0., 0., 0., 0., 0., 0., 0.],\n",
      "       [0., 0., 0., 0., 0., 0., 0., 0., 0., 0.],\n",
      "       [0., 0., 0., 0., 0., 0., 0., 0., 0., 0.],\n",
      "       [0., 0., 0., 0., 0., 0., 0., 0., 0., 0.],\n",
      "       [0., 0., 0., 0., 0., 0., 0., 0., 0., 0.],\n",
      "       [0., 0., 0., 0., 0., 0., 0., 0., 0., 0.],\n",
      "       [0., 0., 0., 0., 0., 0., 0., 0., 0., 0.],\n",
      "       [0., 0., 0., 0., 0., 0., 0., 0., 0., 0.],\n",
      "       [0., 0., 0., 0., 0., 0., 0., 0., 0., 0.],\n",
      "       [0., 0., 0., 0., 0., 0., 0., 0., 0., 0.],\n",
      "       [0., 0., 0., 0., 0., 0., 0., 0., 0., 0.],\n",
      "       [0., 0., 0., 0., 0., 0., 0., 0., 0., 0.],\n",
      "       [0., 0., 0., 0., 0., 0., 0., 0., 0., 0.],\n",
      "       [0., 0., 0., 0., 0., 0., 0., 0., 0., 0.],\n",
      "       [0., 0., 0., 0., 0., 0., 0., 0., 0., 0.],\n",
      "       [0., 0., 0., 0., 0., 0., 0., 0., 0., 0.],\n",
      "       [0., 0., 0., 0., 0., 0., 0., 0., 0., 0.],\n",
      "       [0., 0., 0., 0., 0., 0., 0., 0., 0., 0.],\n",
      "       [0., 0., 0., 0., 0., 0., 0., 0., 0., 0.],\n",
      "       [0., 0., 0., 0., 0., 0., 0., 0., 0., 0.],\n",
      "       [0., 0., 0., 0., 0., 0., 0., 0., 0., 0.],\n",
      "       [0., 0., 0., 0., 0., 0., 0., 0., 0., 0.],\n",
      "       [0., 0., 0., 0., 0., 0., 0., 0., 0., 0.],\n",
      "       [0., 0., 0., 0., 0., 0., 0., 0., 0., 0.],\n",
      "       [0., 0., 0., 0., 0., 0., 0., 0., 0., 0.],\n",
      "       [0., 0., 0., 0., 0., 0., 0., 0., 0., 0.],\n",
      "       [0., 0., 0., 0., 0., 0., 0., 0., 0., 0.],\n",
      "       [0., 0., 0., 0., 0., 0., 0., 0., 0., 0.],\n",
      "       [0., 0., 0., 0., 0., 0., 0., 0., 0., 0.],\n",
      "       [0., 0., 0., 0., 0., 0., 0., 0., 0., 0.],\n",
      "       [0., 0., 0., 0., 0., 0., 0., 0., 0., 0.],\n",
      "       [0., 0., 0., 0., 0., 0., 0., 0., 0., 0.],\n",
      "       [0., 0., 0., 0., 0., 0., 0., 0., 0., 0.],\n",
      "       [0., 0., 0., 0., 0., 0., 0., 0., 0., 0.],\n",
      "       [0., 0., 0., 0., 0., 0., 0., 0., 0., 0.],\n",
      "       [0., 0., 0., 0., 0., 0., 0., 0., 0., 0.],\n",
      "       [0., 0., 0., 0., 0., 0., 0., 0., 0., 0.],\n",
      "       [0., 0., 0., 0., 0., 0., 0., 0., 0., 0.],\n",
      "       [0., 0., 0., 0., 0., 0., 0., 0., 0., 0.],\n",
      "       [0., 0., 0., 0., 0., 0., 0., 0., 0., 0.],\n",
      "       [0., 0., 0., 0., 0., 0., 0., 0., 0., 0.],\n",
      "       [0., 0., 0., 0., 0., 0., 0., 0., 0., 0.],\n",
      "       [0., 0., 0., 0., 0., 0., 0., 0., 0., 0.],\n",
      "       [0., 0., 0., 0., 0., 0., 0., 0., 0., 0.],\n",
      "       [0., 0., 0., 0., 0., 0., 0., 0., 0., 0.],\n",
      "       [0., 0., 0., 0., 0., 0., 0., 0., 0., 0.],\n",
      "       [0., 0., 0., 0., 0., 0., 0., 0., 0., 0.],\n",
      "       [0., 0., 0., 0., 0., 0., 0., 0., 0., 0.],\n",
      "       [0., 0., 0., 0., 0., 0., 0., 0., 0., 0.],\n",
      "       [0., 0., 0., 0., 0., 0., 0., 0., 0., 0.],\n",
      "       [0., 0., 0., 0., 0., 0., 0., 0., 0., 0.],\n",
      "       [0., 0., 0., 0., 0., 0., 0., 0., 0., 0.],\n",
      "       [0., 0., 0., 0., 0., 0., 0., 0., 0., 0.],\n",
      "       [0., 0., 0., 0., 0., 0., 0., 0., 0., 0.],\n",
      "       [0., 0., 0., 0., 0., 0., 0., 0., 0., 0.],\n",
      "       [0., 0., 0., 0., 0., 0., 0., 0., 0., 0.],\n",
      "       [0., 0., 0., 0., 0., 0., 0., 0., 0., 0.],\n",
      "       [0., 0., 0., 0., 0., 0., 0., 0., 0., 0.],\n",
      "       [0., 0., 0., 0., 0., 0., 0., 0., 0., 0.],\n",
      "       [0., 0., 0., 0., 0., 0., 0., 0., 0., 0.],\n",
      "       [0., 0., 0., 0., 0., 0., 0., 0., 0., 0.],\n",
      "       [0., 0., 0., 0., 0., 0., 0., 0., 0., 0.],\n",
      "       [0., 0., 0., 0., 0., 0., 0., 0., 0., 0.],\n",
      "       [0., 0., 0., 0., 0., 0., 0., 0., 0., 0.],\n",
      "       [0., 0., 0., 0., 0., 0., 0., 0., 0., 0.],\n",
      "       [0., 0., 0., 0., 0., 0., 0., 0., 0., 0.],\n",
      "       [0., 0., 0., 0., 0., 0., 0., 0., 0., 0.],\n",
      "       [0., 0., 0., 0., 0., 0., 0., 0., 0., 0.],\n",
      "       [0., 0., 0., 0., 0., 0., 0., 0., 0., 0.],\n",
      "       [0., 0., 0., 0., 0., 0., 0., 0., 0., 0.],\n",
      "       [0., 0., 0., 0., 0., 0., 0., 0., 0., 0.],\n",
      "       [0., 0., 0., 0., 0., 0., 0., 0., 0., 0.],\n",
      "       [0., 0., 0., 0., 0., 0., 0., 0., 0., 0.],\n",
      "       [0., 0., 0., 0., 0., 0., 0., 0., 0., 0.],\n",
      "       [0., 0., 0., 0., 0., 0., 0., 0., 0., 0.],\n",
      "       [0., 0., 0., 0., 0., 0., 0., 0., 0., 0.],\n",
      "       [0., 0., 0., 0., 0., 0., 0., 0., 0., 0.],\n",
      "       [0., 0., 0., 0., 0., 0., 0., 0., 0., 0.],\n",
      "       [0., 0., 0., 0., 0., 0., 0., 0., 0., 0.],\n",
      "       [0., 0., 0., 0., 0., 0., 0., 0., 0., 0.],\n",
      "       [0., 0., 0., 0., 0., 0., 0., 0., 0., 0.],\n",
      "       [0., 0., 0., 0., 0., 0., 0., 0., 0., 0.]]))\n",
      "No of total values Match : 60000\n",
      "number of correct match : 54931\n",
      "Accuracy:  91.55166666666666\n",
      "No of total values Match : 10000\n",
      "number of correct match : 8815\n",
      "Accuracy:  88.15\n"
     ]
    },
    {
     "data": {
      "text/plain": [
       "88.15"
      ]
     },
     "execution_count": 72,
     "metadata": {},
     "output_type": "execute_result"
    }
   ],
   "source": [
    "print('Activation function : sigmoid')\n",
    "layers = train([100,100], 100, X_train, Y_train, 1000, 'sigmoid',0.1,'adaptive')\n",
    "accuracy_(layers, X_train, Y_train, 'sigmoid')\n",
    "accuracy_(layers, X_test, Y_test, 'sigmoid')"
   ]
  },
  {
   "cell_type": "code",
   "execution_count": 89,
   "metadata": {
    "scrolled": false
   },
   "outputs": [
    {
     "name": "stderr",
     "output_type": "stream",
     "text": [
      "  0%|                                                                                         | 0/1000 [00:00<?, ?it/s]"
     ]
    },
    {
     "name": "stdout",
     "output_type": "stream",
     "text": [
      "Activation function : relu\n",
      "classes : 10\n",
      "layer no : 0 No of neurons : 100 No of weights : 785 (100, 785)\n",
      "layer no : 1 No of neurons : 100 No of weights : 101 (100, 101)\n",
      "layer no : 2 No of neurons : 10 No of weights : 101 (10, 101)\n"
     ]
    },
    {
     "name": "stderr",
     "output_type": "stream",
     "text": [
      "<ipython-input-9-c9be39138402>:6: RuntimeWarning: overflow encountered in exp\n",
      "  return 1/(1 + np.exp(-z))\n",
      "<ipython-input-69-bcc220fcdc89>:9: RuntimeWarning: divide by zero encountered in log\n",
      "  cost = (1/m) * np.sum(-labels*np.log(predictions) - (1-labels)*np.log(predictions))\n",
      "<ipython-input-69-bcc220fcdc89>:9: RuntimeWarning: invalid value encountered in multiply\n",
      "  cost = (1/m) * np.sum(-labels*np.log(predictions) - (1-labels)*np.log(predictions))\n",
      "<ipython-input-69-bcc220fcdc89>:11: RuntimeWarning: invalid value encountered in true_divide\n",
      "  dP_hat = (1/m) * (-(labels/predictions) + ((labels)/(predictions)))\n",
      "100%|████████████████████████████████████████████████████████████████████████████| 1000/1000 [1:07:42<00:00,  4.06s/it]\n"
     ]
    },
    {
     "name": "stdout",
     "output_type": "stream",
     "text": [
      "Error : (nan, array([[ 0.,  0.,  0.,  0.,  0.,  0.,  0.,  0.,  0.,  0.],\n",
      "       [ 0.,  0.,  0.,  0.,  0.,  0.,  0.,  0.,  0.,  0.],\n",
      "       [ 0.,  0.,  0.,  0.,  0.,  0.,  0.,  0.,  0.,  0.],\n",
      "       [ 0.,  0.,  0.,  0.,  0.,  0.,  0.,  0.,  0.,  0.],\n",
      "       [ 0.,  0.,  0.,  0.,  0.,  0.,  0.,  0.,  0.,  0.],\n",
      "       [ 0.,  0.,  0.,  0.,  0.,  0.,  0.,  0.,  0.,  0.],\n",
      "       [ 0.,  0.,  0.,  0.,  0.,  0.,  0.,  0.,  0.,  0.],\n",
      "       [ 0.,  0.,  0.,  0.,  0.,  0.,  0.,  0.,  0.,  0.],\n",
      "       [ 0.,  0.,  0.,  0.,  0.,  0.,  0.,  0.,  0.,  0.],\n",
      "       [ 0.,  0.,  0.,  0.,  0.,  0.,  0.,  0.,  0.,  0.],\n",
      "       [ 0.,  0.,  0.,  0.,  0.,  0.,  0.,  0.,  0.,  0.],\n",
      "       [ 0.,  0.,  0.,  0.,  0.,  0.,  0.,  0.,  0.,  0.],\n",
      "       [ 0.,  0.,  0.,  0.,  0.,  0.,  0.,  0.,  0.,  0.],\n",
      "       [ 0.,  0.,  0.,  0.,  0.,  0.,  0.,  0.,  0.,  0.],\n",
      "       [ 0.,  0.,  0.,  0.,  0.,  0.,  0.,  0.,  0.,  0.],\n",
      "       [ 0.,  0.,  0.,  0.,  0.,  0.,  0.,  0.,  0.,  0.],\n",
      "       [ 0.,  0.,  0.,  0.,  0.,  0.,  0.,  0.,  0.,  0.],\n",
      "       [ 0.,  0.,  0.,  0.,  0.,  0.,  0.,  0.,  0.,  0.],\n",
      "       [ 0.,  0.,  0.,  0.,  0.,  0.,  0.,  0.,  0.,  0.],\n",
      "       [ 0.,  0.,  0.,  0.,  0.,  0.,  0.,  0.,  0.,  0.],\n",
      "       [ 0.,  0.,  0.,  0.,  0.,  0.,  0.,  0.,  0.,  0.],\n",
      "       [ 0.,  0.,  0.,  0.,  0.,  0.,  0.,  0.,  0.,  0.],\n",
      "       [ 0.,  0.,  0.,  0.,  0.,  0.,  0.,  0.,  0.,  0.],\n",
      "       [ 0.,  0.,  0.,  0.,  0.,  0.,  0.,  0.,  0.,  0.],\n",
      "       [ 0.,  0.,  0.,  0.,  0.,  0.,  0.,  0.,  0.,  0.],\n",
      "       [ 0.,  0.,  0.,  0.,  0.,  0.,  0.,  0.,  0.,  0.],\n",
      "       [ 0.,  0.,  0.,  0.,  0.,  0.,  0.,  0.,  0.,  0.],\n",
      "       [ 0.,  0.,  0.,  0.,  0.,  0.,  0.,  0.,  0.,  0.],\n",
      "       [ 0.,  0.,  0.,  0.,  0.,  0.,  0.,  0.,  0.,  0.],\n",
      "       [ 0.,  0.,  0.,  0.,  0.,  0.,  0.,  0.,  0.,  0.],\n",
      "       [ 0.,  0.,  0.,  0.,  0.,  0.,  0.,  0.,  0.,  0.],\n",
      "       [ 0.,  0.,  0.,  0.,  0.,  0.,  0.,  0.,  0.,  0.],\n",
      "       [ 0.,  0.,  0.,  0.,  0.,  0.,  0.,  0.,  0.,  0.],\n",
      "       [ 0.,  0.,  0.,  0.,  0.,  0.,  0.,  0.,  0.,  0.],\n",
      "       [ 0.,  0.,  0.,  0.,  0.,  0.,  0.,  0.,  0.,  0.],\n",
      "       [ 0.,  0.,  0.,  0.,  0.,  0.,  0.,  0.,  0.,  0.],\n",
      "       [ 0.,  0.,  0.,  0.,  0.,  0.,  0.,  0.,  0.,  0.],\n",
      "       [ 0.,  0.,  0.,  0.,  0.,  0.,  0.,  0.,  0.,  0.],\n",
      "       [ 0.,  0.,  0.,  0.,  0.,  0.,  0.,  0.,  0.,  0.],\n",
      "       [ 0.,  0.,  0.,  0.,  0.,  0.,  0.,  0.,  0.,  0.],\n",
      "       [ 0.,  0.,  0.,  0.,  0.,  0.,  0.,  0.,  0.,  0.],\n",
      "       [ 0.,  0.,  0.,  0.,  0.,  0.,  0.,  0.,  0.,  0.],\n",
      "       [ 0.,  0.,  0.,  0.,  0., nan,  0.,  0.,  0.,  0.],\n",
      "       [ 0.,  0.,  0.,  0.,  0.,  0.,  0.,  0.,  0.,  0.],\n",
      "       [ 0.,  0.,  0.,  0.,  0.,  0.,  0.,  0.,  0.,  0.],\n",
      "       [ 0.,  0.,  0.,  0.,  0.,  0.,  0.,  0.,  0.,  0.],\n",
      "       [ 0.,  0.,  0.,  0.,  0.,  0.,  0.,  0.,  0.,  0.],\n",
      "       [ 0.,  0.,  0.,  0.,  0.,  0.,  0.,  0.,  0.,  0.],\n",
      "       [ 0.,  0.,  0.,  0.,  0.,  0.,  0.,  0.,  0.,  0.],\n",
      "       [ 0.,  0.,  0.,  0.,  0.,  0.,  0.,  0.,  0.,  0.],\n",
      "       [ 0.,  0.,  0.,  0.,  0.,  0.,  0.,  0.,  0.,  0.],\n",
      "       [ 0.,  0.,  0.,  0.,  0.,  0.,  0.,  0.,  0.,  0.],\n",
      "       [ 0.,  0.,  0.,  0.,  0., nan,  0.,  0.,  0.,  0.],\n",
      "       [ 0.,  0.,  0.,  0.,  0.,  0.,  0.,  0.,  0.,  0.],\n",
      "       [ 0.,  0.,  0.,  0.,  0.,  0.,  0.,  0.,  0.,  0.],\n",
      "       [ 0.,  0.,  0.,  0.,  0.,  0.,  0.,  0.,  0.,  0.],\n",
      "       [ 0.,  0.,  0.,  0.,  0.,  0.,  0.,  0.,  0.,  0.],\n",
      "       [ 0.,  0.,  0.,  0.,  0.,  0.,  0.,  0.,  0.,  0.],\n",
      "       [ 0.,  0.,  0.,  0.,  0.,  0.,  0.,  0.,  0.,  0.],\n",
      "       [ 0.,  0.,  0.,  0.,  0.,  0.,  0.,  0.,  0.,  0.],\n",
      "       [ 0.,  0.,  0.,  0.,  0.,  0.,  0.,  0.,  0.,  0.],\n",
      "       [ 0.,  0.,  0.,  0.,  0.,  0.,  0.,  0.,  0.,  0.],\n",
      "       [ 0.,  0.,  0.,  0.,  0.,  0.,  0.,  0.,  0.,  0.],\n",
      "       [ 0.,  0.,  0.,  0.,  0., nan,  0.,  0.,  0.,  0.],\n",
      "       [ 0.,  0.,  0.,  0.,  0.,  0.,  0.,  0.,  0.,  0.],\n",
      "       [ 0.,  0.,  0.,  0.,  0.,  0.,  0.,  0.,  0.,  0.],\n",
      "       [ 0.,  0.,  0.,  0.,  0.,  0.,  0.,  0.,  0.,  0.],\n",
      "       [ 0.,  0.,  0.,  0.,  0.,  0.,  0.,  0.,  0.,  0.],\n",
      "       [ 0.,  0.,  0.,  0.,  0.,  0.,  0.,  0.,  0.,  0.],\n",
      "       [ 0.,  0.,  0.,  0.,  0.,  0.,  0.,  0.,  0.,  0.],\n",
      "       [ 0.,  0.,  0.,  0.,  0.,  0.,  0.,  0.,  0.,  0.],\n",
      "       [ 0.,  0.,  0.,  0.,  0.,  0.,  0.,  0.,  0.,  0.],\n",
      "       [ 0.,  0.,  0.,  0.,  0.,  0.,  0.,  0.,  0.,  0.],\n",
      "       [ 0.,  0.,  0.,  0.,  0.,  0.,  0.,  0.,  0.,  0.],\n",
      "       [ 0.,  0.,  0.,  0.,  0.,  0.,  0.,  0.,  0.,  0.],\n",
      "       [ 0.,  0.,  0.,  0.,  0.,  0.,  0.,  0.,  0.,  0.],\n",
      "       [ 0.,  0.,  0.,  0.,  0.,  0.,  0.,  0.,  0.,  0.],\n",
      "       [ 0.,  0.,  0.,  0.,  0.,  0.,  0.,  0.,  0.,  0.],\n",
      "       [ 0.,  0.,  0.,  0.,  0.,  0.,  0.,  0.,  0.,  0.],\n",
      "       [ 0.,  0.,  0.,  0.,  0.,  0.,  0.,  0.,  0.,  0.],\n",
      "       [ 0.,  0.,  0.,  0.,  0.,  0.,  0.,  0.,  0.,  0.],\n",
      "       [ 0.,  0.,  0.,  0.,  0., nan,  0.,  0.,  0.,  0.],\n",
      "       [ 0.,  0.,  0.,  0.,  0.,  0.,  0.,  0.,  0.,  0.],\n",
      "       [ 0.,  0.,  0.,  0.,  0.,  0.,  0.,  0.,  0.,  0.],\n",
      "       [ 0.,  0.,  0.,  0.,  0.,  0.,  0.,  0.,  0.,  0.],\n",
      "       [ 0.,  0.,  0.,  0.,  0.,  0.,  0.,  0.,  0.,  0.],\n",
      "       [ 0.,  0.,  0.,  0.,  0.,  0.,  0.,  0.,  0.,  0.],\n",
      "       [ 0.,  0.,  0.,  0.,  0.,  0.,  0.,  0.,  0.,  0.],\n",
      "       [ 0.,  0.,  0.,  0.,  0.,  0.,  0.,  0.,  0.,  0.],\n",
      "       [ 0.,  0.,  0.,  0.,  0.,  0.,  0.,  0.,  0.,  0.],\n",
      "       [ 0.,  0.,  0.,  0.,  0.,  0.,  0.,  0.,  0.,  0.],\n",
      "       [ 0.,  0.,  0.,  0.,  0.,  0.,  0.,  0.,  0.,  0.],\n",
      "       [ 0.,  0.,  0.,  0.,  0.,  0.,  0.,  0.,  0.,  0.],\n",
      "       [ 0.,  0.,  0.,  0.,  0.,  0.,  0.,  0.,  0.,  0.],\n",
      "       [ 0.,  0.,  0.,  0.,  0.,  0.,  0.,  0.,  0.,  0.],\n",
      "       [ 0.,  0.,  0.,  0.,  0.,  0.,  0.,  0.,  0.,  0.],\n",
      "       [ 0.,  0.,  0.,  0.,  0.,  0.,  0.,  0.,  0.,  0.],\n",
      "       [ 0.,  0.,  0.,  0.,  0.,  0.,  0.,  0.,  0.,  0.],\n",
      "       [ 0.,  0.,  0.,  0.,  0.,  0.,  0.,  0.,  0.,  0.],\n",
      "       [ 0.,  0.,  0.,  0.,  0.,  0.,  0.,  0.,  0.,  0.]]))\n",
      "No of total values Match : 60000\n",
      "number of correct match : 6000\n",
      "Accuracy:  10.0\n",
      "No of total values Match : 10000\n",
      "number of correct match : 1000\n",
      "Accuracy:  10.0\n"
     ]
    },
    {
     "data": {
      "text/plain": [
       "10.0"
      ]
     },
     "execution_count": 89,
     "metadata": {},
     "output_type": "execute_result"
    }
   ],
   "source": [
    "print('Activation function : relu')\n",
    "layers = train([100,100], 100, X_train, Y_train, 1000, 'relu',0.1,'adaptive')\n",
    "accuracy_(layers, X_train, Y_train, 'relu')\n",
    "accuracy_(layers, X_test, Y_test, 'relu')"
   ]
  },
  {
   "cell_type": "markdown",
   "metadata": {},
   "source": [
    "# G. MLP Classifier"
   ]
  },
  {
   "cell_type": "code",
   "execution_count": 50,
   "metadata": {},
   "outputs": [],
   "source": [
    "def mlp_classifier(features,labels,epochs,lr,af,momentum_fn=0.9):\n",
    "  mlp_clf = MLPClassifier((100,100),activation=af,solver='sgd',batch_size=100,learning_rate='invscaling',learning_rate_init=lr,shuffle=True,random_state=1, max_iter = epochs,momentum=momentum_fn)\n",
    "  mlp_clf.fit(features,labels)\n",
    "  return mlp_clf"
   ]
  },
  {
   "cell_type": "code",
   "execution_count": 53,
   "metadata": {},
   "outputs": [],
   "source": [
    "mlp_clf = mlp_classifier(X_train ,Y_train ,1000,0.1,'logistic')"
   ]
  },
  {
   "cell_type": "code",
   "execution_count": 84,
   "metadata": {},
   "outputs": [
    {
     "name": "stdout",
     "output_type": "stream",
     "text": [
      "train accuracy: 0.7817666666666667\n",
      "test accuracy: 0.7667\n"
     ]
    }
   ],
   "source": [
    "print('train accuracy:', mlp_clf.score(X_train, Y_train))\n",
    "print('test accuracy:', mlp_clf.score(X_test, Y_test))"
   ]
  },
  {
   "cell_type": "code",
   "execution_count": 87,
   "metadata": {},
   "outputs": [],
   "source": [
    "mlp_clf_relu = mlp_classifier(X_train ,Y_train,1000,0.1,'relu',0)"
   ]
  },
  {
   "cell_type": "code",
   "execution_count": 88,
   "metadata": {},
   "outputs": [
    {
     "name": "stdout",
     "output_type": "stream",
     "text": [
      "train accuracy: 0.7898666666666667\n",
      "test accuracy: 0.7761\n"
     ]
    }
   ],
   "source": [
    "print('train accuracy:', mlp_clf_relu.score(X_train, Y_train))\n",
    "print('test accuracy:', mlp_clf_relu.score(X_test, Y_test))"
   ]
  }
 ],
 "metadata": {
  "kernelspec": {
   "display_name": "Python 3",
   "language": "python",
   "name": "python3"
  },
  "language_info": {
   "codemirror_mode": {
    "name": "ipython",
    "version": 3
   },
   "file_extension": ".py",
   "mimetype": "text/x-python",
   "name": "python",
   "nbconvert_exporter": "python",
   "pygments_lexer": "ipython3",
   "version": "3.8.3"
  }
 },
 "nbformat": 4,
 "nbformat_minor": 4
}
